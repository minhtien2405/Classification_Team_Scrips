{
 "cells": [
  {
   "cell_type": "code",
   "execution_count": 4,
   "metadata": {},
   "outputs": [],
   "source": [
    "import os\n",
    "import time\n",
    "import librosa\n",
    "import pickle\n",
    "import numpy as np\n",
    "import matplotlib.pyplot as plt\n",
    "import pandas as pd \n",
    "from sklearn.model_selection import train_test_split\n",
    "from sklearn.preprocessing import LabelEncoder, StandardScaler\n",
    "from sklearn.metrics import *\n",
    "\n",
    "from sklearn.ensemble import RandomForestClassifier\n",
    "from sklearn.neighbors import KNeighborsClassifier\n",
    "from sklearn.svm import SVC\n",
    "from sklearn.neural_network import MLPClassifier\n",
    "from sklearn.linear_model import LogisticRegression\n",
    "from sklearn.naive_bayes import GaussianNB\n",
    "from sklearn.tree import DecisionTreeClassifier\n",
    "from sklearn.ensemble import AdaBoostClassifier, GradientBoostingClassifier, ExtraTreesClassifier, BaggingClassifier\n",
    "from xgboost import XGBClassifier\n",
    "# path \n",
    "os.chdir('D:\\Study\\Code\\Python\\Sound_Classification_Bee_Qeen_Queenless')\n",
    "from pystacknet.pystacknet.pystacknet import StackNetClassifier\n",
    "\n",
    "import warnings\n",
    "warnings.filterwarnings('ignore')"
   ]
  },
  {
   "cell_type": "code",
   "execution_count": 5,
   "metadata": {},
   "outputs": [
    {
     "data": {
      "text/plain": [
       "'D:\\\\Study\\\\Code\\\\Python\\\\Sound_Classification_Bee_Qeen_Queenless/dataset/'"
      ]
     },
     "execution_count": 5,
     "metadata": {},
     "output_type": "execute_result"
    }
   ],
   "source": [
    "path = os.getcwd() + \"/dataset/\"\n",
    "path"
   ]
  },
  {
   "cell_type": "code",
   "execution_count": 6,
   "metadata": {},
   "outputs": [
    {
     "name": "stdout",
     "output_type": "stream",
     "text": [
      "D:\\Study\\Code\\Python\\Sound_Classification_Bee_Qeen_Queenless/dataset//train\n",
      "D:\\Study\\Code\\Python\\Sound_Classification_Bee_Qeen_Queenless/dataset//val\n",
      "D:\\Study\\Code\\Python\\Sound_Classification_Bee_Qeen_Queenless/dataset//test\n"
     ]
    }
   ],
   "source": [
    "TRAINING_DIR = path+\"/train\"\n",
    "VALIDATION_DIR = path + \"/val\"\n",
    "TEST_DIR = path + \"/test\"\n",
    "\n",
    "print(TRAINING_DIR)\n",
    "print(VALIDATION_DIR)\n",
    "print(TEST_DIR)"
   ]
  },
  {
   "cell_type": "code",
   "execution_count": 7,
   "metadata": {},
   "outputs": [],
   "source": [
    "def data_loader(path):\n",
    "    X = []\n",
    "    Y = []\n",
    "    for folder in os.listdir(path):\n",
    "        for file in os.listdir(os.path.join(path, folder)):\n",
    "            feature = np.load(os.path.join(path, folder, file))\n",
    "            label = folder\n",
    "            X.append(feature)\n",
    "            Y.append(label)\n",
    "    return X, Y"
   ]
  },
  {
   "cell_type": "code",
   "execution_count": 8,
   "metadata": {},
   "outputs": [],
   "source": [
    "X_train, Y_train = data_loader(TRAINING_DIR)\n",
    "X_val, Y_val = data_loader(VALIDATION_DIR)\n",
    "X_test, Y_test = data_loader(TEST_DIR)"
   ]
  },
  {
   "cell_type": "code",
   "execution_count": 9,
   "metadata": {},
   "outputs": [
    {
     "name": "stdout",
     "output_type": "stream",
     "text": [
      "There are 14000 training samples and 14000 training labels\n",
      "There are 2000 validation samples and 2000 validation labels\n",
      "There are 4000 testing samples and 4000 testing labels\n"
     ]
    }
   ],
   "source": [
    "print(\"There are {} training samples and {} training labels\".format(len(X_train), len(Y_train)))\n",
    "print(\"There are {} validation samples and {} validation labels\".format(len(X_val), len(Y_val)))\n",
    "print(\"There are {} testing samples and {} testing labels\".format(len(X_test), len(Y_test)))"
   ]
  },
  {
   "cell_type": "code",
   "execution_count": 10,
   "metadata": {},
   "outputs": [
    {
     "name": "stdout",
     "output_type": "stream",
     "text": [
      "Shape of X_train: (14000, 64575)\n",
      "Shape of X_val: (2000, 64575)\n",
      "Shape of X_test: (4000, 64575)\n"
     ]
    }
   ],
   "source": [
    "X_train = np.array(X_train)\n",
    "X_val = np.array(X_val)\n",
    "X_test = np.array(X_test)\n",
    "Y_train = np.array(Y_train)\n",
    "Y_val = np.array(Y_val)\n",
    "Y_test = np.array(Y_test)\n",
    "\n",
    "print(\"Shape of X_train: {}\".format(X_train.shape))\n",
    "print(\"Shape of X_val: {}\".format(X_val.shape))\n",
    "print(\"Shape of X_test: {}\".format(X_test.shape))"
   ]
  },
  {
   "cell_type": "code",
   "execution_count": 11,
   "metadata": {},
   "outputs": [],
   "source": [
    "# shuffle the dataset\n",
    "shuffle_index = np.random.permutation(len(X_train))\n",
    "X_train, Y_train = X_train[shuffle_index], Y_train[shuffle_index]\n",
    "shuffle_index = np.random.permutation(len(X_val))\n",
    "X_val, Y_val = X_val[shuffle_index], Y_val[shuffle_index]\n",
    "shuffle_index = np.random.permutation(len(X_test))\n",
    "X_test, Y_test = X_test[shuffle_index], Y_test[shuffle_index]"
   ]
  },
  {
   "cell_type": "code",
   "execution_count": 12,
   "metadata": {},
   "outputs": [],
   "source": [
    "label_encoder = LabelEncoder()\n",
    "Y_train = label_encoder.fit_transform(Y_train)\n",
    "Y_val = label_encoder.fit_transform(Y_val)\n",
    "Y_test = label_encoder.fit_transform(Y_test)"
   ]
  },
  {
   "cell_type": "code",
   "execution_count": 13,
   "metadata": {},
   "outputs": [],
   "source": [
    "# models = [\n",
    "#     RandomForestClassifier(max_depth=10, n_estimators=100, max_features=16, criterion='entropy', mean_samples_split=5),\n",
    "#     RandomForestClassifier(max_depth=10, n_estimators=50, max_features=254, criterion='gini, mean_samples_split=2'),\n",
    "#     KNeighborsClassifier(n_neighbors=10, weights='distance', algorithm='auto'),\n",
    "#     KNeighborsClassifier(n_neighbors=10, weights='uniform', algorithm='auto'),\n",
    "#     SVC(C=1.0, kernel='rbf', gamma='scale'),\n",
    "#     SVC(C=10, kernel='rbf', gamma='scale'),\n",
    "#     ExtraTreesClassifier(max_depth=10, n_estimators=100, max_features=16, criterion='entropy', mean_samples_split=5),\n",
    "#     XGBClassifier(max_depth=10, n_estimators=500, learning_rate=0.01, subsample=0.8, colsample_bytree=0.8, gamma = 0.1),\n",
    "#     GradientBoostingClassifier(max_depth=10, n_estimators=100, learning_rate=0.01, subsample=0.5, min_impurity_decrease = 0.1),\n",
    "#     AdaBoostClassifier(n_estimators=500, learning_rate=0.1, bootstrap=True, criterion='entropy')    \n",
    "# ]"
   ]
  },
  {
   "cell_type": "code",
   "execution_count": 14,
   "metadata": {},
   "outputs": [],
   "source": [
    "model = StackNetClassifier([\n",
    "                                    [RandomForestClassifier(max_depth=10, n_estimators=100, max_features=254, criterion='gini', min_samples_split=5),\n",
    "                                    RandomForestClassifier(max_depth=15, n_estimators=100, max_features=254, criterion='gini', min_samples_split=2),\n",
    "                                    KNeighborsClassifier(n_neighbors=10, weights='uniform', algorithm='auto'),\n",
    "                                    KNeighborsClassifier(n_neighbors=15, weights='uniform', algorithm='auto'),\n",
    "                                    MLPClassifier(hidden_layer_sizes=(100, 100, 100), activation='relu', solver='adam', alpha=0.0001, batch_size=32, learning_rate='constant', learning_rate_init=0.0001, max_iter=500),\n",
    "                                    MLPClassifier(hidden_layer_sizes=(100, 100, 100), activation='relu', solver='adam', alpha=0.0001, batch_size=32, learning_rate='constant', learning_rate_init=0.0001, max_iter=1000)\n",
    "                                       ],\n",
    "                                    [RandomForestClassifier (n_estimators=200, criterion=\"gini\", max_depth=10, max_features=254, random_state=42)]\n",
    "                            ], \n",
    "                                   metric = 'accuracy', folds = 4, restacking = False, use_retraining = True, use_proba = True, random_state = 0, n_jobs = 1, verbose = 1)               \n",
    "\n",
    "# learning rate: 0.01, 0.001, 0.0001\n",
    "# solver: adam, adamw, lbfgs\n",
    "# alpha: 0.0001, 0.001, 0.01\n",
    "# bath_size: 32, 64, 128, 256        \n",
    "# max_iter: 500, 1000, 1500, 2000                            \n",
    "# folds = 4, 5, 6, 7, 8, 9, 10"
   ]
  },
  {
   "cell_type": "code",
   "execution_count": 15,
   "metadata": {},
   "outputs": [],
   "source": [
    "# model = StackNetClassifier([\n",
    "#                                     [RandomForestClassifier(max_depth=10, n_estimators=100, max_features=254, criterion='gini', min_samples_split=5),\n",
    "#                                     RandomForestClassifier(max_depth=15, n_estimators=100, max_features=254, criterion='gini', min_samples_split=5),\n",
    "#                                     KNeighborsClassifier(n_neighbors=10, weights='uniform', algorithm='auto'),\n",
    "#                                     KNeighborsClassifier(n_neighbors=15, weights='uniform', algorithm='auto'),\n",
    "#                                     MLPClassifier(hidden_layer_sizes=(100, 100, 100), activation='relu', solver='sgd', alpha=0.0001, batch_size=32, learning_rate='constant', learning_rate_init=0.0001, max_iter=500),\n",
    "#                                     MLPClassifier(hidden_layer_sizes=(100, 100, 100), activation='relu', solver='sgd', alpha=0.0001, batch_size=32, learning_rate='constant', learning_rate_init=0.0001, max_iter=1000)\n",
    "#                                        ],\n",
    "#                                     [RandomForestClassifier (n_estimators=200, criterion=\"gini\", max_depth=10, max_features=254, random_state=42)]\n",
    "#                             ], \n",
    "#                                    metric = 'accuracy', folds = 4, restacking = False, use_retraining = True, use_proba = True, random_state = 0, n_jobs = 1, verbose = 1)               \n",
    "\n",
    "# # learning rate: 0.01, 0.001, 0.0001\n",
    "# # solver: adam, adamw, lbfgs\n",
    "# # alpha: 0.0001, 0.001, 0.01\n",
    "# # bath_size: 32, 64, 128, 256        \n",
    "# # max_iter: 500, 1000, 1500, 2000                            \n",
    "# # folds = 4, 5, 6, 7, 8, 9, 10, 30 "
   ]
  },
  {
   "attachments": {
    "image.png": {
     "image/png": "[encoded data removed]"
    }
   },
   "cell_type": "markdown",
   "metadata": {},
   "source": [
    "![image.png](attachment:image.png)"
   ]
  },
  {
   "cell_type": "code",
   "execution_count": 16,
   "metadata": {},
   "outputs": [
    {
     "name": "stdout",
     "output_type": "stream",
     "text": [
      "====================== Start of Level 0 ======================\n",
      "Input Dimensionality 64575 at Level 0 \n",
      "6 models included in Level 0 \n"
     ]
    },
    {
     "name": "stdout",
     "output_type": "stream",
     "text": [
      "Level 0, fold 1/4 , model 0 , accuracy===0.827143 \n",
      "Level 0, fold 1/4 , model 1 , accuracy===0.827143 \n",
      "Level 0, fold 1/4 , model 2 , accuracy===0.848857 \n",
      "Level 0, fold 1/4 , model 3 , accuracy===0.841714 \n",
      "Level 0, fold 1/4 , model 4 , accuracy===0.906286 \n",
      "Level 0, fold 1/4 , model 5 , accuracy===0.866000 \n",
      "=========== end of fold 1 in level 0 ===========\n",
      "Level 0, fold 2/4 , model 0 , accuracy===0.832000 \n",
      "Level 0, fold 2/4 , model 1 , accuracy===0.827143 \n",
      "Level 0, fold 2/4 , model 2 , accuracy===0.838857 \n",
      "Level 0, fold 2/4 , model 3 , accuracy===0.838571 \n",
      "Level 0, fold 2/4 , model 4 , accuracy===0.896286 \n",
      "Level 0, fold 2/4 , model 5 , accuracy===0.896857 \n",
      "=========== end of fold 2 in level 0 ===========\n",
      "Level 0, fold 3/4 , model 0 , accuracy===0.829429 \n",
      "Level 0, fold 3/4 , model 1 , accuracy===0.820571 \n",
      "Level 0, fold 3/4 , model 2 , accuracy===0.843429 \n",
      "Level 0, fold 3/4 , model 3 , accuracy===0.834857 \n",
      "Level 0, fold 3/4 , model 4 , accuracy===0.840571 \n",
      "Level 0, fold 3/4 , model 5 , accuracy===0.908000 \n",
      "=========== end of fold 3 in level 0 ===========\n",
      "Level 0, fold 4/4 , model 0 , accuracy===0.833714 \n",
      "Level 0, fold 4/4 , model 1 , accuracy===0.834857 \n",
      "Level 0, fold 4/4 , model 2 , accuracy===0.843714 \n",
      "Level 0, fold 4/4 , model 3 , accuracy===0.844571 \n",
      "Level 0, fold 4/4 , model 4 , accuracy===0.900286 \n",
      "Level 0, fold 4/4 , model 5 , accuracy===0.904000 \n",
      "=========== end of fold 4 in level 0 ===========\n",
      "Level 0, model 0 , accuracy===0.830571 \n",
      "Level 0, model 1 , accuracy===0.827429 \n",
      "Level 0, model 2 , accuracy===0.843714 \n",
      "Level 0, model 3 , accuracy===0.839929 \n",
      "Level 0, model 4 , accuracy===0.885857 \n",
      "Level 0, model 5 , accuracy===0.893714 \n",
      "Output dimensionality of level 0 is 6 \n",
      "====================== End of Level 0 ======================\n",
      " level 0 lasted 21049.447608 seconds \n",
      "====================== Start of Level 1 ======================\n",
      "Input Dimensionality 6 at Level 1 \n",
      "1 models included in Level 1 \n",
      "Level 1, fold 1/4 , model 0 , accuracy===0.884857 \n",
      "=========== end of fold 1 in level 1 ===========\n",
      "Level 1, fold 2/4 , model 0 , accuracy===0.897714 \n",
      "=========== end of fold 2 in level 1 ===========\n",
      "Level 1, fold 3/4 , model 0 , accuracy===0.870286 \n",
      "=========== end of fold 3 in level 1 ===========\n",
      "Level 1, fold 4/4 , model 0 , accuracy===0.908857 \n",
      "=========== end of fold 4 in level 1 ===========\n",
      "Level 1, model 0 , accuracy===0.890429 \n",
      "Output dimensionality of level 1 is 1 \n",
      "====================== End of Level 1 ======================\n",
      " level 1 lasted 27.804953 seconds \n",
      "====================== End of fit ======================\n",
      " fit() lasted 21077.256550 seconds \n"
     ]
    }
   ],
   "source": [
    "model.fit(X_train, Y_train)"
   ]
  },
  {
   "cell_type": "code",
   "execution_count": 17,
   "metadata": {},
   "outputs": [],
   "source": [
    "filename = 'StackNet_1D_STFT_Model.sav'\n",
    "pickle.dump(model, open(filename, 'wb'))"
   ]
  },
  {
   "cell_type": "code",
   "execution_count": 18,
   "metadata": {},
   "outputs": [
    {
     "name": "stdout",
     "output_type": "stream",
     "text": [
      "====================== Start of Level 0 ======================\n",
      "1 estimators included in Level 0 \n",
      "====================== Start of Level 1 ======================\n",
      "1 estimators included in Level 1 \n",
      "====================== Start of Level 0 ======================\n",
      "1 estimators included in Level 0 \n",
      "====================== Start of Level 1 ======================\n",
      "1 estimators included in Level 1 \n",
      "====================== Start of Level 0 ======================\n",
      "1 estimators included in Level 0 \n",
      "====================== Start of Level 1 ======================\n",
      "1 estimators included in Level 1 \n"
     ]
    }
   ],
   "source": [
    "train_preds = model.predict_proba(X_train)[:, 1]\n",
    "val_preds = model.predict_proba(X_val)[:, 1]\n",
    "test_preds = model.predict_proba(X_test)[:, 1]"
   ]
  },
  {
   "cell_type": "code",
   "execution_count": 19,
   "metadata": {},
   "outputs": [],
   "source": [
    "train_score = roc_auc_score(Y_train, train_preds)\n",
    "val_score = roc_auc_score(Y_val, val_preds)\n",
    "test_score = roc_auc_score(Y_test, test_preds)"
   ]
  },
  {
   "cell_type": "code",
   "execution_count": 20,
   "metadata": {},
   "outputs": [
    {
     "name": "stdout",
     "output_type": "stream",
     "text": [
      "StackNet AUC on training set: 1.0\n",
      "StackNet AUC on validation set: 0.9778\n",
      "StackNet AUC on testing set: 0.9773\n"
     ]
    }
   ],
   "source": [
    "print(f\"StackNet AUC on training set: {round(train_score, 4)}\")\n",
    "print(f\"StackNet AUC on validation set: {round(val_score, 4)}\")\n",
    "print(f\"StackNet AUC on testing set: {round(test_score, 4)}\")"
   ]
  },
  {
   "cell_type": "code",
   "execution_count": 21,
   "metadata": {},
   "outputs": [
    {
     "data": {
      "text/plain": [
       "0.91725"
      ]
     },
     "execution_count": 21,
     "metadata": {},
     "output_type": "execute_result"
    }
   ],
   "source": [
    "accuracy_score(Y_test, np.round(test_preds))"
   ]
  },
  {
   "cell_type": "code",
   "execution_count": 22,
   "metadata": {},
   "outputs": [
    {
     "data": {
      "text/plain": [
       "array([[1870,  130],\n",
       "       [ 201, 1799]], dtype=int64)"
      ]
     },
     "execution_count": 22,
     "metadata": {},
     "output_type": "execute_result"
    }
   ],
   "source": [
    "confusion_matrix(Y_test, np.round(test_preds))"
   ]
  },
  {
   "cell_type": "code",
   "execution_count": 23,
   "metadata": {},
   "outputs": [
    {
     "name": "stdout",
     "output_type": "stream",
     "text": [
      "              precision    recall  f1-score   support\n",
      "\n",
      "           0       0.90      0.94      0.92      2000\n",
      "           1       0.93      0.90      0.92      2000\n",
      "\n",
      "    accuracy                           0.92      4000\n",
      "   macro avg       0.92      0.92      0.92      4000\n",
      "weighted avg       0.92      0.92      0.92      4000\n",
      "\n"
     ]
    }
   ],
   "source": [
    "print(classification_report(Y_test, np.round(test_preds)))"
   ]
  },
  {
   "cell_type": "code",
   "execution_count": null,
   "metadata": {},
   "outputs": [],
   "source": []
  },
  {
   "cell_type": "code",
   "execution_count": null,
   "metadata": {},
   "outputs": [],
   "source": []
  }
 ],
 "metadata": {
  "kernelspec": {
   "display_name": "Python 3 (ipykernel)",
   "language": "python",
   "name": "python3"
  },
  "language_info": {
   "codemirror_mode": {
    "name": "ipython",
    "version": 3
   },
   "file_extension": ".py",
   "mimetype": "text/x-python",
   "name": "python",
   "nbconvert_exporter": "python",
   "pygments_lexer": "ipython3",
   "version": "3.9.16"
  }
 },
 "nbformat": 4,
 "nbformat_minor": 4
}
