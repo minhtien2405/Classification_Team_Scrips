{
 "cells": [
  {
   "cell_type": "code",
   "execution_count": 1,
   "metadata": {},
   "outputs": [
    {
     "name": "stderr",
     "output_type": "stream",
     "text": [
      "2023-06-27 03:18:58.119309: I tensorflow/core/platform/cpu_feature_guard.cc:182] This TensorFlow binary is optimized to use available CPU instructions in performance-critical operations.\n",
      "To enable the following instructions: AVX2 FMA, in other operations, rebuild TensorFlow with the appropriate compiler flags.\n"
     ]
    }
   ],
   "source": [
    "import os\n",
    "import time\n",
    "import librosa\n",
    "import librosa.display\n",
    "import numpy as np\n",
    "import matplotlib.pyplot as plt\n",
    "import pandas as pd \n",
    "from sklearn.model_selection import train_test_split\n",
    "from sklearn.preprocessing import LabelEncoder, StandardScaler\n",
    "from sklearn.metrics import *\n",
    "\n",
    "import tensorflow as tf\n",
    "from tensorflow.keras import *\n",
    "from tensorflow.keras.callbacks import *\n",
    "\n",
    "import warnings\n",
    "warnings.filterwarnings('ignore')"
   ]
  },
  {
   "cell_type": "code",
   "execution_count": 2,
   "metadata": {},
   "outputs": [
    {
     "data": {
      "text/plain": [
       "'/root/dataset/'"
      ]
     },
     "execution_count": 2,
     "metadata": {},
     "output_type": "execute_result"
    }
   ],
   "source": [
    "path = os.getcwd() + \"/dataset/\"\n",
    "path"
   ]
  },
  {
   "cell_type": "code",
   "execution_count": 3,
   "metadata": {},
   "outputs": [
    {
     "name": "stdout",
     "output_type": "stream",
     "text": [
      "/root/dataset//train\n",
      "/root/dataset//val\n",
      "/root/dataset//test\n"
     ]
    }
   ],
   "source": [
    "TRAINING_DIR = path+\"/train\"\n",
    "VALIDATION_DIR = path + \"/val\"\n",
    "TEST_DIR = path + \"/test\"\n",
    "\n",
    "print(TRAINING_DIR)\n",
    "print(VALIDATION_DIR)\n",
    "print(TEST_DIR)"
   ]
  },
  {
   "cell_type": "code",
   "execution_count": 4,
   "metadata": {},
   "outputs": [],
   "source": [
    "def data_loader(path):\n",
    "    X = []\n",
    "    Y = []\n",
    "    for folder in os.listdir(path):\n",
    "        for file in os.listdir(os.path.join(path, folder)):\n",
    "            feature = np.load(os.path.join(path, folder, file))\n",
    "            label = folder\n",
    "            X.append(feature)\n",
    "            Y.append(label)\n",
    "    return X, Y"
   ]
  },
  {
   "cell_type": "code",
   "execution_count": 5,
   "metadata": {},
   "outputs": [],
   "source": [
    "X_train, Y_train = data_loader(TRAINING_DIR)\n",
    "X_val, Y_val = data_loader(VALIDATION_DIR)\n",
    "X_test, Y_test = data_loader(TEST_DIR)"
   ]
  },
  {
   "cell_type": "code",
   "execution_count": 6,
   "metadata": {},
   "outputs": [
    {
     "name": "stdout",
     "output_type": "stream",
     "text": [
      "There are 14000 training samples and 14000 training labels\n",
      "There are 2000 validation samples and 2000 validation labels\n",
      "There are 4000 testing samples and 4000 testing labels\n"
     ]
    }
   ],
   "source": [
    "print(\"There are {} training samples and {} training labels\".format(len(X_train), len(Y_train)))\n",
    "print(\"There are {} validation samples and {} validation labels\".format(len(X_val), len(Y_val)))\n",
    "print(\"There are {} testing samples and {} testing labels\".format(len(X_test), len(Y_test)))"
   ]
  },
  {
   "cell_type": "code",
   "execution_count": 7,
   "metadata": {},
   "outputs": [
    {
     "name": "stdout",
     "output_type": "stream",
     "text": [
      "Shape of X_train: (14000, 64575)\n",
      "Shape of X_val: (2000, 64575)\n",
      "Shape of X_test: (4000, 64575)\n"
     ]
    }
   ],
   "source": [
    "X_train = np.array(X_train)\n",
    "X_val = np.array(X_val)\n",
    "X_test = np.array(X_test)\n",
    "Y_train = np.array(Y_train)\n",
    "Y_val = np.array(Y_val)\n",
    "Y_test = np.array(Y_test)\n",
    "\n",
    "print(\"Shape of X_train: {}\".format(X_train.shape))\n",
    "print(\"Shape of X_val: {}\".format(X_val.shape))\n",
    "print(\"Shape of X_test: {}\".format(X_test.shape))"
   ]
  },
  {
   "cell_type": "code",
   "execution_count": 8,
   "metadata": {},
   "outputs": [
    {
     "name": "stdout",
     "output_type": "stream",
     "text": [
      "Shape of X_train: (14000, 64575, 1)\n",
      "Shape of X_val: (2000, 64575, 1)\n",
      "Shape of X_test: (4000, 64575, 1)\n"
     ]
    }
   ],
   "source": [
    "# Reshape the input data\n",
    "X_train = X_train.reshape( (X_train.shape[0], X_train.shape[1], 1) )\n",
    "X_val = X_val.reshape( (X_val.shape[0], X_val.shape[1], 1) )\n",
    "X_test = X_test.reshape( (X_test.shape[0], X_test.shape[1], 1) )\n",
    "Y_train = Y_train.reshape( (Y_train.shape[0], 1) )\n",
    "Y_val = Y_val.reshape( (Y_val.shape[0], 1) )\n",
    "Y_test = Y_test.reshape( (Y_test.shape[0], 1) )\n",
    "\n",
    "print(\"Shape of X_train: {}\".format(X_train.shape))\n",
    "print(\"Shape of X_val: {}\".format(X_val.shape))\n",
    "print(\"Shape of X_test: {}\".format(X_test.shape))"
   ]
  },
  {
   "cell_type": "code",
   "execution_count": 9,
   "metadata": {},
   "outputs": [],
   "source": [
    "# shuffle the dataset\n",
    "shuffle_index = np.random.permutation(len(X_train))\n",
    "X_train, Y_train = X_train[shuffle_index], Y_train[shuffle_index]\n",
    "shuffle_index = np.random.permutation(len(X_val))\n",
    "X_val, Y_val = X_val[shuffle_index], Y_val[shuffle_index]\n",
    "shuffle_index = np.random.permutation(len(X_test))\n",
    "X_test, Y_test = X_test[shuffle_index], Y_test[shuffle_index]"
   ]
  },
  {
   "cell_type": "code",
   "execution_count": 10,
   "metadata": {},
   "outputs": [],
   "source": [
    "label_encoder = LabelEncoder()\n",
    "Y_train = label_encoder.fit_transform(Y_train)\n",
    "Y_val = label_encoder.fit_transform(Y_val)\n",
    "Y_test = label_encoder.fit_transform(Y_test)"
   ]
  },
  {
   "cell_type": "code",
   "execution_count": 11,
   "metadata": {},
   "outputs": [
    {
     "name": "stderr",
     "output_type": "stream",
     "text": [
      "2023-06-27 03:19:07.959277: I tensorflow/core/common_runtime/gpu/gpu_device.cc:1635] Created device /job:localhost/replica:0/task:0/device:GPU:0 with 22078 MB memory:  -> device: 0, name: NVIDIA GeForce RTX 4090, pci bus id: 0000:c1:00.0, compute capability: 8.9\n"
     ]
    }
   ],
   "source": [
    "model = Sequential([\n",
    "    layers.Input(shape=(X_train.shape[1:])),\n",
    "    layers.Conv1D(16, 3, activation='relu'),\n",
    "    layers.MaxPooling1D(2),\n",
    "    layers.Conv1D(32, 3, activation='relu'),\n",
    "    layers.MaxPooling1D(2),\n",
    "    layers.Conv1D(64, 3, activation='relu'),\n",
    "    layers.MaxPooling1D(2),\n",
    "    layers.Conv1D(128, 3, activation='relu'),\n",
    "    layers.MaxPooling1D(2),\n",
    "    layers.Conv1D(256, 3, activation='relu'),\n",
    "    layers.MaxPooling1D(2),\n",
    "    layers.Flatten(),\n",
    "    layers.Dense(512, activation='relu'),\n",
    "    layers.Dropout(0.3),\n",
    "    layers.Dense(1, activation='sigmoid')\n",
    "])"
   ]
  },
  {
   "cell_type": "code",
   "execution_count": 12,
   "metadata": {},
   "outputs": [
    {
     "name": "stdout",
     "output_type": "stream",
     "text": [
      "Model: \"sequential\"\n",
      "_________________________________________________________________\n",
      " Layer (type)                Output Shape              Param #   \n",
      "=================================================================\n",
      " conv1d (Conv1D)             (None, 64573, 16)         64        \n",
      "                                                                 \n",
      " max_pooling1d (MaxPooling1D  (None, 32286, 16)        0         \n",
      " )                                                               \n",
      "                                                                 \n",
      " conv1d_1 (Conv1D)           (None, 32284, 32)         1568      \n",
      "                                                                 \n",
      " max_pooling1d_1 (MaxPooling  (None, 16142, 32)        0         \n",
      " 1D)                                                             \n",
      "                                                                 \n",
      " conv1d_2 (Conv1D)           (None, 16140, 64)         6208      \n",
      "                                                                 \n",
      " max_pooling1d_2 (MaxPooling  (None, 8070, 64)         0         \n",
      " 1D)                                                             \n",
      "                                                                 \n",
      " conv1d_3 (Conv1D)           (None, 8068, 128)         24704     \n",
      "                                                                 \n",
      " max_pooling1d_3 (MaxPooling  (None, 4034, 128)        0         \n",
      " 1D)                                                             \n",
      "                                                                 \n",
      " conv1d_4 (Conv1D)           (None, 4032, 256)         98560     \n",
      "                                                                 \n",
      " max_pooling1d_4 (MaxPooling  (None, 2016, 256)        0         \n",
      " 1D)                                                             \n",
      "                                                                 \n",
      " flatten (Flatten)           (None, 516096)            0         \n",
      "                                                                 \n",
      " dense (Dense)               (None, 512)               264241664 \n",
      "                                                                 \n",
      " dropout (Dropout)           (None, 512)               0         \n",
      "                                                                 \n",
      " dense_1 (Dense)             (None, 1)                 513       \n",
      "                                                                 \n",
      "=================================================================\n",
      "Total params: 264,373,281\n",
      "Trainable params: 264,373,281\n",
      "Non-trainable params: 0\n",
      "_________________________________________________________________\n"
     ]
    }
   ],
   "source": [
    "model.compile(optimizer=tf.keras.optimizers.Adam(learning_rate=0.0001),\n",
    "              loss='binary_crossentropy',\n",
    "              metrics=['accuracy'])\n",
    "model.summary()"
   ]
  },
  {
   "cell_type": "code",
   "execution_count": 13,
   "metadata": {},
   "outputs": [],
   "source": [
    "earlystopper = EarlyStopping(\n",
    "    monitor='val_loss',\n",
    "    patience=20,\n",
    "    restore_best_weights=True\n",
    ")"
   ]
  },
  {
   "cell_type": "code",
   "execution_count": 14,
   "metadata": {},
   "outputs": [
    {
     "name": "stderr",
     "output_type": "stream",
     "text": [
      "2023-06-27 03:19:08.603871: W tensorflow/tsl/framework/cpu_allocator_impl.cc:83] Allocation of 3616200000 exceeds 10% of free system memory.\n",
      "2023-06-27 03:19:10.394239: W tensorflow/tsl/framework/cpu_allocator_impl.cc:83] Allocation of 3616200000 exceeds 10% of free system memory.\n"
     ]
    },
    {
     "name": "stdout",
     "output_type": "stream",
     "text": [
      "Epoch 1/120\n"
     ]
    },
    {
     "name": "stderr",
     "output_type": "stream",
     "text": [
      "2023-06-27 03:19:13.868046: I tensorflow/compiler/xla/stream_executor/cuda/cuda_dnn.cc:424] Loaded cuDNN version 8600\n",
      "2023-06-27 03:19:15.009934: I tensorflow/compiler/xla/stream_executor/cuda/cuda_blas.cc:637] TensorFloat-32 will be used for the matrix multiplication. This will only be logged once.\n",
      "2023-06-27 03:19:15.023354: I tensorflow/compiler/xla/service/service.cc:169] XLA service 0x22785930 initialized for platform CUDA (this does not guarantee that XLA will be used). Devices:\n",
      "2023-06-27 03:19:15.023407: I tensorflow/compiler/xla/service/service.cc:177]   StreamExecutor device (0): NVIDIA GeForce RTX 4090, Compute Capability 8.9\n",
      "2023-06-27 03:19:15.031621: I tensorflow/compiler/mlir/tensorflow/utils/dump_mlir_util.cc:269] disabling MLIR crash reproducer, set env var `MLIR_CRASH_REPRODUCER_DIRECTORY` to enable.\n",
      "2023-06-27 03:19:15.180041: I ./tensorflow/compiler/jit/device_compiler.h:180] Compiled cluster using XLA!  This line is logged at most once for the lifetime of the process.\n"
     ]
    },
    {
     "name": "stdout",
     "output_type": "stream",
     "text": [
      "110/110 [==============================] - 24s 156ms/step - loss: 0.5291 - accuracy: 0.7245 - val_loss: 0.4904 - val_accuracy: 0.7980\n",
      "Epoch 2/120\n",
      "110/110 [==============================] - 14s 130ms/step - loss: 0.4292 - accuracy: 0.8011 - val_loss: 0.3983 - val_accuracy: 0.8145\n",
      "Epoch 3/120\n",
      "110/110 [==============================] - 14s 130ms/step - loss: 0.3692 - accuracy: 0.8349 - val_loss: 0.3438 - val_accuracy: 0.8475\n",
      "Epoch 4/120\n",
      "110/110 [==============================] - 14s 131ms/step - loss: 0.3313 - accuracy: 0.8544 - val_loss: 0.3181 - val_accuracy: 0.8515\n",
      "Epoch 5/120\n",
      "110/110 [==============================] - 14s 130ms/step - loss: 0.3097 - accuracy: 0.8636 - val_loss: 0.3083 - val_accuracy: 0.8695\n",
      "Epoch 6/120\n",
      "110/110 [==============================] - 14s 131ms/step - loss: 0.2898 - accuracy: 0.8741 - val_loss: 0.2692 - val_accuracy: 0.8880\n",
      "Epoch 7/120\n",
      "110/110 [==============================] - 14s 130ms/step - loss: 0.2588 - accuracy: 0.8894 - val_loss: 0.2534 - val_accuracy: 0.8940\n",
      "Epoch 8/120\n",
      "110/110 [==============================] - 14s 131ms/step - loss: 0.2395 - accuracy: 0.8959 - val_loss: 0.2519 - val_accuracy: 0.8885\n",
      "Epoch 9/120\n",
      "110/110 [==============================] - 14s 131ms/step - loss: 0.2219 - accuracy: 0.9064 - val_loss: 0.2467 - val_accuracy: 0.8980\n",
      "Epoch 10/120\n",
      "110/110 [==============================] - 14s 130ms/step - loss: 0.2037 - accuracy: 0.9137 - val_loss: 0.2236 - val_accuracy: 0.9050\n",
      "Epoch 11/120\n",
      "110/110 [==============================] - 14s 130ms/step - loss: 0.1893 - accuracy: 0.9207 - val_loss: 0.2100 - val_accuracy: 0.9115\n",
      "Epoch 12/120\n",
      "110/110 [==============================] - 14s 130ms/step - loss: 0.1766 - accuracy: 0.9271 - val_loss: 0.2089 - val_accuracy: 0.9170\n",
      "Epoch 13/120\n",
      "110/110 [==============================] - 14s 130ms/step - loss: 0.1677 - accuracy: 0.9329 - val_loss: 0.1880 - val_accuracy: 0.9215\n",
      "Epoch 14/120\n",
      "110/110 [==============================] - 14s 130ms/step - loss: 0.1537 - accuracy: 0.9365 - val_loss: 0.1837 - val_accuracy: 0.9225\n",
      "Epoch 15/120\n",
      "110/110 [==============================] - 14s 125ms/step - loss: 0.1610 - accuracy: 0.9376 - val_loss: 0.2273 - val_accuracy: 0.9150\n",
      "Epoch 16/120\n",
      "110/110 [==============================] - 14s 125ms/step - loss: 0.1638 - accuracy: 0.9365 - val_loss: 0.2286 - val_accuracy: 0.9165\n",
      "Epoch 17/120\n",
      "110/110 [==============================] - 14s 125ms/step - loss: 0.1311 - accuracy: 0.9503 - val_loss: 0.2129 - val_accuracy: 0.9115\n",
      "Epoch 18/120\n",
      "110/110 [==============================] - 14s 125ms/step - loss: 0.1430 - accuracy: 0.9451 - val_loss: 0.2063 - val_accuracy: 0.9185\n",
      "Epoch 19/120\n",
      "110/110 [==============================] - 14s 130ms/step - loss: 0.1237 - accuracy: 0.9500 - val_loss: 0.1614 - val_accuracy: 0.9365\n",
      "Epoch 20/120\n",
      "110/110 [==============================] - 14s 125ms/step - loss: 0.1104 - accuracy: 0.9570 - val_loss: 0.1776 - val_accuracy: 0.9325\n",
      "Epoch 21/120\n",
      "110/110 [==============================] - 14s 125ms/step - loss: 0.1214 - accuracy: 0.9536 - val_loss: 0.1662 - val_accuracy: 0.9340\n",
      "Epoch 22/120\n",
      "110/110 [==============================] - 14s 130ms/step - loss: 0.0955 - accuracy: 0.9644 - val_loss: 0.1423 - val_accuracy: 0.9445\n",
      "Epoch 23/120\n",
      "110/110 [==============================] - 14s 126ms/step - loss: 0.0938 - accuracy: 0.9641 - val_loss: 0.1521 - val_accuracy: 0.9410\n",
      "Epoch 24/120\n",
      "110/110 [==============================] - 14s 124ms/step - loss: 0.0828 - accuracy: 0.9687 - val_loss: 0.1560 - val_accuracy: 0.9425\n",
      "Epoch 25/120\n",
      "110/110 [==============================] - 14s 124ms/step - loss: 0.0767 - accuracy: 0.9726 - val_loss: 0.1517 - val_accuracy: 0.9425\n",
      "Epoch 26/120\n",
      "110/110 [==============================] - 14s 124ms/step - loss: 0.0854 - accuracy: 0.9689 - val_loss: 0.1763 - val_accuracy: 0.9435\n",
      "Epoch 27/120\n",
      "110/110 [==============================] - 14s 125ms/step - loss: 0.0894 - accuracy: 0.9671 - val_loss: 0.1577 - val_accuracy: 0.9470\n",
      "Epoch 28/120\n",
      "110/110 [==============================] - 14s 125ms/step - loss: 0.0757 - accuracy: 0.9745 - val_loss: 0.1659 - val_accuracy: 0.9400\n",
      "Epoch 29/120\n",
      "110/110 [==============================] - 14s 125ms/step - loss: 0.0729 - accuracy: 0.9723 - val_loss: 0.1508 - val_accuracy: 0.9435\n",
      "Epoch 30/120\n",
      "110/110 [==============================] - 14s 125ms/step - loss: 0.0590 - accuracy: 0.9781 - val_loss: 0.1475 - val_accuracy: 0.9440\n",
      "Epoch 31/120\n",
      "110/110 [==============================] - 14s 125ms/step - loss: 0.0525 - accuracy: 0.9803 - val_loss: 0.1681 - val_accuracy: 0.9460\n",
      "Epoch 32/120\n",
      "110/110 [==============================] - 14s 125ms/step - loss: 0.0459 - accuracy: 0.9839 - val_loss: 0.1712 - val_accuracy: 0.9445\n",
      "Epoch 33/120\n",
      "110/110 [==============================] - 14s 125ms/step - loss: 0.0437 - accuracy: 0.9844 - val_loss: 0.1545 - val_accuracy: 0.9450\n",
      "Epoch 34/120\n",
      "110/110 [==============================] - 14s 125ms/step - loss: 0.0424 - accuracy: 0.9847 - val_loss: 0.2189 - val_accuracy: 0.9480\n",
      "Epoch 35/120\n",
      "110/110 [==============================] - 14s 125ms/step - loss: 0.0508 - accuracy: 0.9842 - val_loss: 0.1973 - val_accuracy: 0.9430\n",
      "Epoch 36/120\n",
      "110/110 [==============================] - 14s 126ms/step - loss: 0.0627 - accuracy: 0.9789 - val_loss: 0.2172 - val_accuracy: 0.9445\n",
      "Epoch 37/120\n",
      "110/110 [==============================] - 14s 125ms/step - loss: 0.0633 - accuracy: 0.9838 - val_loss: 0.2556 - val_accuracy: 0.9500\n",
      "Epoch 38/120\n",
      "110/110 [==============================] - 14s 126ms/step - loss: 0.0385 - accuracy: 0.9868 - val_loss: 0.2276 - val_accuracy: 0.9385\n",
      "Epoch 39/120\n",
      "110/110 [==============================] - 14s 126ms/step - loss: 0.0326 - accuracy: 0.9887 - val_loss: 0.1832 - val_accuracy: 0.9540\n",
      "Epoch 40/120\n",
      "110/110 [==============================] - 14s 125ms/step - loss: 0.0242 - accuracy: 0.9928 - val_loss: 0.1946 - val_accuracy: 0.9495\n",
      "Epoch 41/120\n",
      "110/110 [==============================] - 14s 125ms/step - loss: 0.0263 - accuracy: 0.9919 - val_loss: 0.1959 - val_accuracy: 0.9490\n",
      "Epoch 42/120\n",
      "110/110 [==============================] - 14s 130ms/step - loss: 0.0333 - accuracy: 0.9891 - val_loss: 0.1774 - val_accuracy: 0.9520\n",
      "Training completed in 601 seconds.\n"
     ]
    }
   ],
   "source": [
    "epochs = 120\n",
    "batch_size = 128\n",
    "current_time = int(time.time())\n",
    "stop_training_callback = earlystopper\n",
    "history = model.fit(X_train, Y_train, \n",
    "                    epochs=epochs, \n",
    "                    batch_size=batch_size,\n",
    "                    validation_data=(X_val, Y_val), \n",
    "                    callbacks=[stop_training_callback])\n",
    "print(\"Training completed in {} seconds.\".format(int(time.time()-current_time)))"
   ]
  },
  {
   "cell_type": "code",
   "execution_count": 15,
   "metadata": {},
   "outputs": [],
   "source": [
    "# acc=history.history['accuracy']\n",
    "# val_acc=history.history['val_accuracy']\n",
    "# loss=history.history['loss']\n",
    "# val_loss=history.history['val_loss']\n",
    "\n",
    "# epochs=range(len(acc))\n",
    "\n",
    "# plt.plot(epochs, acc, 'r', \"Training Accuracy\")\n",
    "# plt.plot(epochs, val_acc, 'b', \"Validation Accuracy\")\n",
    "# plt.title('Training and validation accuracy')\n",
    "# plt.show()\n",
    "# print(\"\")\n",
    "\n",
    "# plt.plot(epochs, loss, 'r', \"Training Loss\")\n",
    "# plt.plot(epochs, val_loss, 'b', \"Validation Loss\")\n",
    "# plt.show()"
   ]
  },
  {
   "cell_type": "code",
   "execution_count": 35,
   "metadata": {},
   "outputs": [
    {
     "name": "stdout",
     "output_type": "stream",
     "text": [
      "125/125 [==============================] - 1s 10ms/step\n"
     ]
    }
   ],
   "source": [
    "test_predict = model.predict(X_test)"
   ]
  },
  {
   "cell_type": "code",
   "execution_count": 36,
   "metadata": {},
   "outputs": [
    {
     "name": "stdout",
     "output_type": "stream",
     "text": [
      "        0\n",
      "0     1.0\n",
      "1     1.0\n",
      "2     1.0\n",
      "3     0.0\n",
      "4     1.0\n",
      "...   ...\n",
      "3995  1.0\n",
      "3996  1.0\n",
      "3997  1.0\n",
      "3998  1.0\n",
      "3999  1.0\n",
      "\n",
      "[4000 rows x 1 columns]\n",
      "4000\n"
     ]
    }
   ],
   "source": [
    "show_test_predict = np.round(test_predict, 0)\n",
    "show_test_predict = pd.DataFrame(show_test_predict)\n",
    "print(show_test_predict)\n",
    "print(len(show_test_predict))"
   ]
  },
  {
   "cell_type": "code",
   "execution_count": 37,
   "metadata": {},
   "outputs": [],
   "source": [
    "# from sklearn.metrics import roc_curve, auc\n",
    "# fpr, tpr, thresholds = roc_curve(Y_test, test_predict)\n",
    "# roc_auc = auc(fpr, tpr)\n",
    "\n",
    "# plt.figure()\n",
    "# plt.plot(fpr, tpr, color='darkorange', lw=2, label='ROC curve (area = %0.2f)'% roc_auc)\n",
    "# plt.plot([0,1],[0,1], color='navy', lw=2, linestyle='--')\n",
    "# plt.xlim([0.0,1.0])\n",
    "# plt.ylim([0.0,1.05])\n",
    "# plt.xlabel(\"False Positive Rate\")\n",
    "# plt.ylabel(\"True Positive Rate\")\n",
    "# plt.title(\"ROC Curve\")\n",
    "# plt.legend(loc=\"lower right\")\n",
    "# plt.show()"
   ]
  },
  {
   "cell_type": "code",
   "execution_count": 38,
   "metadata": {},
   "outputs": [
    {
     "data": {
      "text/plain": [
       "0.947999791999168"
      ]
     },
     "execution_count": 38,
     "metadata": {},
     "output_type": "execute_result"
    }
   ],
   "source": [
    "from sklearn.metrics import f1_score\n",
    "f1_score(Y_test, show_test_predict, average='macro')"
   ]
  },
  {
   "cell_type": "code",
   "execution_count": 39,
   "metadata": {},
   "outputs": [
    {
     "data": {
      "text/plain": [
       "array([[1892,  108],\n",
       "       [ 100, 1900]])"
      ]
     },
     "metadata": {},
     "output_type": "display_data"
    }
   ],
   "source": [
    "from sklearn.metrics import confusion_matrix\n",
    "cf = confusion_matrix(Y_test, show_test_predict)\n",
    "display(cf)"
   ]
  },
  {
   "cell_type": "code",
   "execution_count": 40,
   "metadata": {},
   "outputs": [
    {
     "name": "stdout",
     "output_type": "stream",
     "text": [
      "125/125 [==============================] - 2s 12ms/step - loss: 0.1467 - accuracy: 0.9480\n"
     ]
    }
   ],
   "source": [
    "stt = model.evaluate(X_test, Y_test)"
   ]
  },
  {
   "cell_type": "code",
   "execution_count": 42,
   "metadata": {},
   "outputs": [
    {
     "data": {
      "text/plain": [
       "[0.14673833549022675, 0.9480000138282776]"
      ]
     },
     "execution_count": 42,
     "metadata": {},
     "output_type": "execute_result"
    }
   ],
   "source": [
    "stt"
   ]
  },
  {
   "cell_type": "code",
   "execution_count": 44,
   "metadata": {},
   "outputs": [
    {
     "ename": "OSError",
     "evalue": "[Errno 28] Can't write data (file write failed: time = Tue Jun 27 03:34:10 2023\n, filename = '1D_CNN_5ACC.h5', file descriptor = 84, errno = 28, error message = 'No space left on device', buf = 0x7f4f1a036758, total write size = 1056733368, bytes this sub-write = 1056733368, bytes actually written = 18446744073709551615, offset = 0)",
     "output_type": "error",
     "traceback": [
      "\u001b[0;31m---------------------------------------------------------------------------\u001b[0m",
      "\u001b[0;31mOSError\u001b[0m                                   Traceback (most recent call last)",
      "Cell \u001b[0;32mIn[44], line 1\u001b[0m\n\u001b[0;32m----> 1\u001b[0m \u001b[43mmodel\u001b[49m\u001b[38;5;241;43m.\u001b[39;49m\u001b[43msave\u001b[49m\u001b[43m(\u001b[49m\u001b[38;5;124;43mf\u001b[39;49m\u001b[38;5;124;43m\"\u001b[39;49m\u001b[38;5;124;43m1D_CNN_5ACC.h5\u001b[39;49m\u001b[38;5;124;43m\"\u001b[39;49m\u001b[43m)\u001b[49m\n",
      "File \u001b[0;32m/usr/local/lib/python3.8/dist-packages/keras/utils/traceback_utils.py:70\u001b[0m, in \u001b[0;36mfilter_traceback.<locals>.error_handler\u001b[0;34m(*args, **kwargs)\u001b[0m\n\u001b[1;32m     67\u001b[0m     filtered_tb \u001b[38;5;241m=\u001b[39m _process_traceback_frames(e\u001b[38;5;241m.\u001b[39m__traceback__)\n\u001b[1;32m     68\u001b[0m     \u001b[38;5;66;03m# To get the full stack trace, call:\u001b[39;00m\n\u001b[1;32m     69\u001b[0m     \u001b[38;5;66;03m# `tf.debugging.disable_traceback_filtering()`\u001b[39;00m\n\u001b[0;32m---> 70\u001b[0m     \u001b[38;5;28;01mraise\u001b[39;00m e\u001b[38;5;241m.\u001b[39mwith_traceback(filtered_tb) \u001b[38;5;28;01mfrom\u001b[39;00m \u001b[38;5;28;01mNone\u001b[39;00m\n\u001b[1;32m     71\u001b[0m \u001b[38;5;28;01mfinally\u001b[39;00m:\n\u001b[1;32m     72\u001b[0m     \u001b[38;5;28;01mdel\u001b[39;00m filtered_tb\n",
      "File \u001b[0;32mh5py/_objects.pyx:54\u001b[0m, in \u001b[0;36mh5py._objects.with_phil.wrapper\u001b[0;34m()\u001b[0m\n",
      "File \u001b[0;32mh5py/_objects.pyx:55\u001b[0m, in \u001b[0;36mh5py._objects.with_phil.wrapper\u001b[0;34m()\u001b[0m\n",
      "File \u001b[0;32m/usr/local/lib/python3.8/dist-packages/h5py/_hl/dataset.py:1009\u001b[0m, in \u001b[0;36mDataset.__setitem__\u001b[0;34m(self, args, val)\u001b[0m\n\u001b[1;32m   1007\u001b[0m mspace \u001b[38;5;241m=\u001b[39m h5s\u001b[38;5;241m.\u001b[39mcreate_simple(selection\u001b[38;5;241m.\u001b[39mexpand_shape(mshape))\n\u001b[1;32m   1008\u001b[0m \u001b[38;5;28;01mfor\u001b[39;00m fspace \u001b[38;5;129;01min\u001b[39;00m selection\u001b[38;5;241m.\u001b[39mbroadcast(mshape):\n\u001b[0;32m-> 1009\u001b[0m     \u001b[38;5;28;43mself\u001b[39;49m\u001b[38;5;241;43m.\u001b[39;49m\u001b[43mid\u001b[49m\u001b[38;5;241;43m.\u001b[39;49m\u001b[43mwrite\u001b[49m\u001b[43m(\u001b[49m\u001b[43mmspace\u001b[49m\u001b[43m,\u001b[49m\u001b[43m \u001b[49m\u001b[43mfspace\u001b[49m\u001b[43m,\u001b[49m\u001b[43m \u001b[49m\u001b[43mval\u001b[49m\u001b[43m,\u001b[49m\u001b[43m \u001b[49m\u001b[43mmtype\u001b[49m\u001b[43m,\u001b[49m\u001b[43m \u001b[49m\u001b[43mdxpl\u001b[49m\u001b[38;5;241;43m=\u001b[39;49m\u001b[38;5;28;43mself\u001b[39;49m\u001b[38;5;241;43m.\u001b[39;49m\u001b[43m_dxpl\u001b[49m\u001b[43m)\u001b[49m\n",
      "File \u001b[0;32mh5py/_objects.pyx:54\u001b[0m, in \u001b[0;36mh5py._objects.with_phil.wrapper\u001b[0;34m()\u001b[0m\n",
      "File \u001b[0;32mh5py/_objects.pyx:55\u001b[0m, in \u001b[0;36mh5py._objects.with_phil.wrapper\u001b[0;34m()\u001b[0m\n",
      "File \u001b[0;32mh5py/h5d.pyx:280\u001b[0m, in \u001b[0;36mh5py.h5d.DatasetID.write\u001b[0;34m()\u001b[0m\n",
      "File \u001b[0;32mh5py/_proxy.pyx:114\u001b[0m, in \u001b[0;36mh5py._proxy.dset_rw\u001b[0;34m()\u001b[0m\n",
      "\u001b[0;31mOSError\u001b[0m: [Errno 28] Can't write data (file write failed: time = Tue Jun 27 03:34:10 2023\n, filename = '1D_CNN_5ACC.h5', file descriptor = 84, errno = 28, error message = 'No space left on device', buf = 0x7f4f1a036758, total write size = 1056733368, bytes this sub-write = 1056733368, bytes actually written = 18446744073709551615, offset = 0)"
     ]
    }
   ],
   "source": [
    "model.save(f\"1D_CNN_5ACC.h5\")"
   ]
  },
  {
   "cell_type": "code",
   "execution_count": null,
   "metadata": {},
   "outputs": [],
   "source": []
  },
  {
   "cell_type": "code",
   "execution_count": null,
   "metadata": {},
   "outputs": [],
   "source": []
  }
 ],
 "metadata": {
  "kernelspec": {
   "display_name": "Python 3 (ipykernel)",
   "language": "python",
   "name": "python3"
  },
  "language_info": {
   "codemirror_mode": {
    "name": "ipython",
    "version": 3
   },
   "file_extension": ".py",
   "mimetype": "text/x-python",
   "name": "python",
   "nbconvert_exporter": "python",
   "pygments_lexer": "ipython3",
   "version": "3.8.10"
  }
 },
 "nbformat": 4,
 "nbformat_minor": 4
}
