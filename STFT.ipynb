{
 "cells": [
  {
   "cell_type": "code",
   "execution_count": 50,
   "metadata": {},
   "outputs": [],
   "source": [
    "import os\n",
    "import librosa\n",
    "import librosa.display\n",
    "import numpy as np\n",
    "import matplotlib.pyplot as plt\n",
    "import pandas as pd"
   ]
  },
  {
   "cell_type": "code",
   "execution_count": 74,
   "metadata": {},
   "outputs": [],
   "source": [
    "path = os.getcwd() + '/audio_dataset/' + 'val/Queen/'\n",
    "save_path = os.getcwd() + '/npy_dataset/' + 'val/Queen/'"
   ]
  },
  {
   "cell_type": "code",
   "execution_count": 86,
   "metadata": {},
   "outputs": [],
   "source": [
    "def read_16k_mono(path):\n",
    "    y, sr = librosa.load(path, sr=16000, mono=True)\n",
    "    return y, sr"
   ]
  },
  {
   "cell_type": "code",
   "execution_count": 76,
   "metadata": {},
   "outputs": [],
   "source": [
    "def stft(y, n_fft, hop_length, win_length):\n",
    "    D = librosa.stft(y, n_fft=n_fft, hop_length=hop_length, win_length=win_length)\n",
    "    return D"
   ]
  },
  {
   "cell_type": "code",
   "execution_count": 77,
   "metadata": {},
   "outputs": [
    {
     "name": "stdout",
     "output_type": "stream",
     "text": [
      "Done!\n"
     ]
    }
   ],
   "source": [
    "for file in os.listdir(path):\n",
    "    if file.endswith(\".wav\"):\n",
    "        y, sr = read_16k_mono(path + file)\n",
    "        feature = stft(y, n_fft=1024, hop_length=512, win_length=1024)\n",
    "        feature = np.abs(feature)\n",
    "        stft_feature = np.ndarray.flatten(feature)\n",
    "        np.save(save_path + file[:-4] + '.npy', stft_feature)\n",
    "print(\"Done!\")"
   ]
  },
  {
   "cell_type": "code",
   "execution_count": 87,
   "metadata": {},
   "outputs": [
    {
     "name": "stdout",
     "output_type": "stream",
     "text": [
      "(32319,)\n"
     ]
    }
   ],
   "source": [
    "y,r = read_16k_mono(path + 'queen_13.wav')\n",
    "feature = stft(y, n_fft=1024, hop_length=512, win_length=1024)\n",
    "feature = np.abs(feature)\n",
    "stft_feature = np.ndarray.flatten(feature)\n",
    "\n",
    "\n",
    "print(stft_feature.shape)\n"
   ]
  },
  {
   "cell_type": "code",
   "execution_count": null,
   "metadata": {},
   "outputs": [],
   "source": []
  }
 ],
 "metadata": {
  "kernelspec": {
   "display_name": "gpu",
   "language": "python",
   "name": "python3"
  },
  "language_info": {
   "codemirror_mode": {
    "name": "ipython",
    "version": 3
   },
   "file_extension": ".py",
   "mimetype": "text/x-python",
   "name": "python",
   "nbconvert_exporter": "python",
   "pygments_lexer": "ipython3",
   "version": "3.9.16"
  },
  "orig_nbformat": 4
 },
 "nbformat": 4,
 "nbformat_minor": 2
}
