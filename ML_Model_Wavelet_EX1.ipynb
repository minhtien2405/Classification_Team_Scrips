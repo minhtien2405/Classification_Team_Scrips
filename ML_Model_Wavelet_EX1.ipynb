{
 "cells": [
  {
   "cell_type": "code",
   "execution_count": 13,
   "id": "53fd7f67-46e9-413a-8a4e-89284dbe4c5e",
   "metadata": {},
   "outputs": [],
   "source": [
    "import os\n",
    "import pywt\n",
    "import librosa\n",
    "import numpy as np\n",
    "import pandas as pd\n",
    "import matplotlib.pyplot as plt\n",
    "from matplotlib import cm\n",
    "import tensorflow as tf\n",
    "import tensorflow_io as tfio\n",
    "from sklearn.decomposition import PCA\n",
    "from sklearn.model_selection import train_test_split\n",
    "from sklearn.svm import SVC\n",
    "from sklearn.metrics import *\n",
    "from sklearn.utils import shuffle\n",
    "from sklearn.neighbors import KNeighborsClassifier\n",
    "from sklearn.ensemble import RandomForestClassifier\n",
    "from sklearn.linear_model import LogisticRegression\n",
    "from sklearn.tree import DecisionTreeClassifier"
   ]
  },
  {
   "cell_type": "code",
   "execution_count": 14,
   "id": "44663ddf-801c-494b-aad4-7cb0b010b272",
   "metadata": {},
   "outputs": [
    {
     "data": {
      "text/html": [
       "<div>\n",
       "<style scoped>\n",
       "    .dataframe tbody tr th:only-of-type {\n",
       "        vertical-align: middle;\n",
       "    }\n",
       "\n",
       "    .dataframe tbody tr th {\n",
       "        vertical-align: top;\n",
       "    }\n",
       "\n",
       "    .dataframe thead th {\n",
       "        text-align: right;\n",
       "    }\n",
       "</style>\n",
       "<table border=\"1\" class=\"dataframe\">\n",
       "  <thead>\n",
       "    <tr style=\"text-align: right;\">\n",
       "      <th></th>\n",
       "      <th>Unnamed: 0</th>\n",
       "      <th>0</th>\n",
       "      <th>1</th>\n",
       "      <th>2</th>\n",
       "      <th>3</th>\n",
       "      <th>4</th>\n",
       "      <th>5</th>\n",
       "      <th>6</th>\n",
       "      <th>7</th>\n",
       "      <th>8</th>\n",
       "      <th>...</th>\n",
       "      <th>91</th>\n",
       "      <th>92</th>\n",
       "      <th>93</th>\n",
       "      <th>94</th>\n",
       "      <th>95</th>\n",
       "      <th>96</th>\n",
       "      <th>97</th>\n",
       "      <th>98</th>\n",
       "      <th>99</th>\n",
       "      <th>Label</th>\n",
       "    </tr>\n",
       "  </thead>\n",
       "  <tbody>\n",
       "    <tr>\n",
       "      <th>0</th>\n",
       "      <td>0</td>\n",
       "      <td>0.276949</td>\n",
       "      <td>0.277871</td>\n",
       "      <td>0.277635</td>\n",
       "      <td>0.277899</td>\n",
       "      <td>0.278524</td>\n",
       "      <td>0.278079</td>\n",
       "      <td>0.277153</td>\n",
       "      <td>0.278850</td>\n",
       "      <td>0.278084</td>\n",
       "      <td>...</td>\n",
       "      <td>-0.628702</td>\n",
       "      <td>-0.611281</td>\n",
       "      <td>-0.598672</td>\n",
       "      <td>-0.577381</td>\n",
       "      <td>-0.573174</td>\n",
       "      <td>-0.564264</td>\n",
       "      <td>-0.550211</td>\n",
       "      <td>-0.545061</td>\n",
       "      <td>-0.539697</td>\n",
       "      <td>1</td>\n",
       "    </tr>\n",
       "    <tr>\n",
       "      <th>1</th>\n",
       "      <td>1</td>\n",
       "      <td>-1.211096</td>\n",
       "      <td>-1.210662</td>\n",
       "      <td>-1.210799</td>\n",
       "      <td>-1.210669</td>\n",
       "      <td>-1.210384</td>\n",
       "      <td>-1.210804</td>\n",
       "      <td>-1.212018</td>\n",
       "      <td>-1.211351</td>\n",
       "      <td>-1.213882</td>\n",
       "      <td>...</td>\n",
       "      <td>-0.873361</td>\n",
       "      <td>-0.941303</td>\n",
       "      <td>-1.004014</td>\n",
       "      <td>-1.074170</td>\n",
       "      <td>-1.104963</td>\n",
       "      <td>-1.131867</td>\n",
       "      <td>-1.197298</td>\n",
       "      <td>-1.228209</td>\n",
       "      <td>-1.263463</td>\n",
       "      <td>0</td>\n",
       "    </tr>\n",
       "    <tr>\n",
       "      <th>2</th>\n",
       "      <td>2</td>\n",
       "      <td>-0.430973</td>\n",
       "      <td>-0.431227</td>\n",
       "      <td>-0.431162</td>\n",
       "      <td>-0.431246</td>\n",
       "      <td>-0.431442</td>\n",
       "      <td>-0.431392</td>\n",
       "      <td>-0.431326</td>\n",
       "      <td>-0.431945</td>\n",
       "      <td>-0.432273</td>\n",
       "      <td>...</td>\n",
       "      <td>1.396948</td>\n",
       "      <td>1.412602</td>\n",
       "      <td>1.426856</td>\n",
       "      <td>1.432660</td>\n",
       "      <td>1.445189</td>\n",
       "      <td>1.448968</td>\n",
       "      <td>1.450864</td>\n",
       "      <td>1.451005</td>\n",
       "      <td>1.449528</td>\n",
       "      <td>1</td>\n",
       "    </tr>\n",
       "    <tr>\n",
       "      <th>3</th>\n",
       "      <td>3</td>\n",
       "      <td>-0.589942</td>\n",
       "      <td>-0.589948</td>\n",
       "      <td>-0.589944</td>\n",
       "      <td>-0.589959</td>\n",
       "      <td>-0.589991</td>\n",
       "      <td>-0.590071</td>\n",
       "      <td>-0.590296</td>\n",
       "      <td>-0.590395</td>\n",
       "      <td>-0.590978</td>\n",
       "      <td>...</td>\n",
       "      <td>1.012360</td>\n",
       "      <td>0.980707</td>\n",
       "      <td>0.948314</td>\n",
       "      <td>0.905566</td>\n",
       "      <td>0.882127</td>\n",
       "      <td>0.842269</td>\n",
       "      <td>0.802692</td>\n",
       "      <td>0.765566</td>\n",
       "      <td>0.728233</td>\n",
       "      <td>0</td>\n",
       "    </tr>\n",
       "    <tr>\n",
       "      <th>4</th>\n",
       "      <td>4</td>\n",
       "      <td>-0.031310</td>\n",
       "      <td>-0.031731</td>\n",
       "      <td>-0.031604</td>\n",
       "      <td>-0.031737</td>\n",
       "      <td>-0.032034</td>\n",
       "      <td>-0.031784</td>\n",
       "      <td>-0.031192</td>\n",
       "      <td>-0.031980</td>\n",
       "      <td>-0.031170</td>\n",
       "      <td>...</td>\n",
       "      <td>0.871171</td>\n",
       "      <td>0.889101</td>\n",
       "      <td>0.906761</td>\n",
       "      <td>0.921226</td>\n",
       "      <td>0.936462</td>\n",
       "      <td>0.948664</td>\n",
       "      <td>0.962518</td>\n",
       "      <td>0.973536</td>\n",
       "      <td>0.983934</td>\n",
       "      <td>1</td>\n",
       "    </tr>\n",
       "  </tbody>\n",
       "</table>\n",
       "<p>5 rows × 102 columns</p>\n",
       "</div>"
      ],
      "text/plain": [
       "   Unnamed: 0         0         1         2         3         4         5  \\\n",
       "0           0  0.276949  0.277871  0.277635  0.277899  0.278524  0.278079   \n",
       "1           1 -1.211096 -1.210662 -1.210799 -1.210669 -1.210384 -1.210804   \n",
       "2           2 -0.430973 -0.431227 -0.431162 -0.431246 -0.431442 -0.431392   \n",
       "3           3 -0.589942 -0.589948 -0.589944 -0.589959 -0.589991 -0.590071   \n",
       "4           4 -0.031310 -0.031731 -0.031604 -0.031737 -0.032034 -0.031784   \n",
       "\n",
       "          6         7         8  ...        91        92        93        94  \\\n",
       "0  0.277153  0.278850  0.278084  ... -0.628702 -0.611281 -0.598672 -0.577381   \n",
       "1 -1.212018 -1.211351 -1.213882  ... -0.873361 -0.941303 -1.004014 -1.074170   \n",
       "2 -0.431326 -0.431945 -0.432273  ...  1.396948  1.412602  1.426856  1.432660   \n",
       "3 -0.590296 -0.590395 -0.590978  ...  1.012360  0.980707  0.948314  0.905566   \n",
       "4 -0.031192 -0.031980 -0.031170  ...  0.871171  0.889101  0.906761  0.921226   \n",
       "\n",
       "         95        96        97        98        99  Label  \n",
       "0 -0.573174 -0.564264 -0.550211 -0.545061 -0.539697      1  \n",
       "1 -1.104963 -1.131867 -1.197298 -1.228209 -1.263463      0  \n",
       "2  1.445189  1.448968  1.450864  1.451005  1.449528      1  \n",
       "3  0.882127  0.842269  0.802692  0.765566  0.728233      0  \n",
       "4  0.936462  0.948664  0.962518  0.973536  0.983934      1  \n",
       "\n",
       "[5 rows x 102 columns]"
      ]
     },
     "execution_count": 14,
     "metadata": {},
     "output_type": "execute_result"
    }
   ],
   "source": [
    "data_test = pd.read_csv(\"bee_dataset.csv\")\n",
    "\n",
    "data_test.head()"
   ]
  },
  {
   "cell_type": "code",
   "execution_count": 15,
   "id": "9352eede",
   "metadata": {},
   "outputs": [],
   "source": [
    "X = data_test.drop(\"Label\", axis = 1).values\n",
    "y = data_test[\"Label\"].values\n",
    "X_train, X_test, y_train, y_test = train_test_split(X,y, test_size=0.3, random_state=42)"
   ]
  },
  {
   "cell_type": "code",
   "execution_count": 16,
   "id": "3be1f085",
   "metadata": {},
   "outputs": [
    {
     "data": {
      "text/plain": [
       "[<matplotlib.lines.Line2D at 0x2634687adc0>]"
      ]
     },
     "execution_count": 16,
     "metadata": {},
     "output_type": "execute_result"
    },
    {
     "data": {
      "image/png": "[encoded data removed]",
      "text/plain": [
       "<Figure size 640x480 with 1 Axes>"
      ]
     },
     "metadata": {},
     "output_type": "display_data"
    }
   ],
   "source": [
    "# KNeighborsClassifier\n",
    "\n",
    "scores = {}\n",
    "confusion_matrixs = {}\n",
    "\n",
    "for i in range(1,10):\n",
    "    model_knn = KNeighborsClassifier(n_neighbors = i)\n",
    "    model_knn.fit(X_train, y_train)\n",
    "    y_pred = model_knn.predict(X_test)\n",
    "    scores[i] = accuracy_score(y_test, y_pred)\n",
    "\n",
    "plt.plot(list(scores.keys()), list(scores.values()))\n",
    "\n"
   ]
  },
  {
   "cell_type": "code",
   "execution_count": 17,
   "id": "120338a6",
   "metadata": {},
   "outputs": [],
   "source": [
    "Models = [LogisticRegression(max_iter = 1000), RandomForestClassifier(n_estimators = 100), KNeighborsClassifier(n_neighbors = 3), DecisionTreeClassifier()]\n",
    "\n",
    "Model_names = [\"Logistic Regression\", \"Random Forest\", \"KNN\", \"Decision Tree\"]"
   ]
  },
  {
   "cell_type": "code",
   "execution_count": 18,
   "id": "408f46b6",
   "metadata": {},
   "outputs": [],
   "source": [
    "accuracies = []\n",
    "classifier_reports = []\n",
    "confusion_matrixs = []\n",
    "\n",
    "for model in range(len(Models)):\n",
    "    clf = Models[model]\n",
    "    clf.fit(X_train, y_train)\n",
    "    y_pred = clf.predict(X_test)\n",
    "    accuracies.append(accuracy_score(y_test, y_pred))\n",
    "    classifier_reports.append(classification_report(y_test, y_pred))\n",
    "    confusion_matrixs.append(confusion_matrix(y_test, y_pred))"
   ]
  },
  {
   "cell_type": "code",
   "execution_count": 19,
   "id": "8e13902c",
   "metadata": {},
   "outputs": [
    {
     "name": "stdout",
     "output_type": "stream",
     "text": [
      "Model:  Logistic Regression\n",
      "Accuracy:  0.6765\n",
      "Confusion Matrix: \n",
      " [[1532 1522]\n",
      " [ 419 2527]]\n",
      "Classification Report: \n",
      "               precision    recall  f1-score   support\n",
      "\n",
      "           0       0.79      0.50      0.61      3054\n",
      "           1       0.62      0.86      0.72      2946\n",
      "\n",
      "    accuracy                           0.68      6000\n",
      "   macro avg       0.70      0.68      0.67      6000\n",
      "weighted avg       0.71      0.68      0.67      6000\n",
      "\n",
      "---------------------------------------------------------\n",
      "Model:  Random Forest\n",
      "Accuracy:  0.8323333333333334\n",
      "Confusion Matrix: \n",
      " [[2515  539]\n",
      " [ 467 2479]]\n",
      "Classification Report: \n",
      "               precision    recall  f1-score   support\n",
      "\n",
      "           0       0.84      0.82      0.83      3054\n",
      "           1       0.82      0.84      0.83      2946\n",
      "\n",
      "    accuracy                           0.83      6000\n",
      "   macro avg       0.83      0.83      0.83      6000\n",
      "weighted avg       0.83      0.83      0.83      6000\n",
      "\n",
      "---------------------------------------------------------\n",
      "Model:  KNN\n",
      "Accuracy:  0.5713333333333334\n",
      "Confusion Matrix: \n",
      " [[1698 1356]\n",
      " [1216 1730]]\n",
      "Classification Report: \n",
      "               precision    recall  f1-score   support\n",
      "\n",
      "           0       0.58      0.56      0.57      3054\n",
      "           1       0.56      0.59      0.57      2946\n",
      "\n",
      "    accuracy                           0.57      6000\n",
      "   macro avg       0.57      0.57      0.57      6000\n",
      "weighted avg       0.57      0.57      0.57      6000\n",
      "\n",
      "---------------------------------------------------------\n",
      "Model:  Decision Tree\n",
      "Accuracy:  0.7708333333333334\n",
      "Confusion Matrix: \n",
      " [[2332  722]\n",
      " [ 653 2293]]\n",
      "Classification Report: \n",
      "               precision    recall  f1-score   support\n",
      "\n",
      "           0       0.78      0.76      0.77      3054\n",
      "           1       0.76      0.78      0.77      2946\n",
      "\n",
      "    accuracy                           0.77      6000\n",
      "   macro avg       0.77      0.77      0.77      6000\n",
      "weighted avg       0.77      0.77      0.77      6000\n",
      "\n",
      "---------------------------------------------------------\n"
     ]
    }
   ],
   "source": [
    "for accuracy, matrix, classifier_report, model_name in zip(accuracies, confusion_matrixs, classifier_reports, Model_names):\n",
    "    print(\"Model: \", model_name)\n",
    "    print(\"Accuracy: \", accuracy)\n",
    "    print(\"Confusion Matrix: \\n\", matrix)\n",
    "    print(\"Classification Report: \\n\", classifier_report)\n",
    "    print(\"---------------------------------------------------------\")"
   ]
  },
  {
   "cell_type": "code",
   "execution_count": 64,
   "id": "e805ac11",
   "metadata": {},
   "outputs": [
    {
     "data": {
      "text/html": [
       "<style>#sk-container-id-7 {color: black;background-color: white;}#sk-container-id-7 pre{padding: 0;}#sk-container-id-7 div.sk-toggleable {background-color: white;}#sk-container-id-7 label.sk-toggleable__label {cursor: pointer;display: block;width: 100%;margin-bottom: 0;padding: 0.3em;box-sizing: border-box;text-align: center;}#sk-container-id-7 label.sk-toggleable__label-arrow:before {content: \"▸\";float: left;margin-right: 0.25em;color: #696969;}#sk-container-id-7 label.sk-toggleable__label-arrow:hover:before {color: black;}#sk-container-id-7 div.sk-estimator:hover label.sk-toggleable__label-arrow:before {color: black;}#sk-container-id-7 div.sk-toggleable__content {max-height: 0;max-width: 0;overflow: hidden;text-align: left;background-color: #f0f8ff;}#sk-container-id-7 div.sk-toggleable__content pre {margin: 0.2em;color: black;border-radius: 0.25em;background-color: #f0f8ff;}#sk-container-id-7 input.sk-toggleable__control:checked~div.sk-toggleable__content {max-height: 200px;max-width: 100%;overflow: auto;}#sk-container-id-7 input.sk-toggleable__control:checked~label.sk-toggleable__label-arrow:before {content: \"▾\";}#sk-container-id-7 div.sk-estimator input.sk-toggleable__control:checked~label.sk-toggleable__label {background-color: #d4ebff;}#sk-container-id-7 div.sk-label input.sk-toggleable__control:checked~label.sk-toggleable__label {background-color: #d4ebff;}#sk-container-id-7 input.sk-hidden--visually {border: 0;clip: rect(1px 1px 1px 1px);clip: rect(1px, 1px, 1px, 1px);height: 1px;margin: -1px;overflow: hidden;padding: 0;position: absolute;width: 1px;}#sk-container-id-7 div.sk-estimator {font-family: monospace;background-color: #f0f8ff;border: 1px dotted black;border-radius: 0.25em;box-sizing: border-box;margin-bottom: 0.5em;}#sk-container-id-7 div.sk-estimator:hover {background-color: #d4ebff;}#sk-container-id-7 div.sk-parallel-item::after {content: \"\";width: 100%;border-bottom: 1px solid gray;flex-grow: 1;}#sk-container-id-7 div.sk-label:hover label.sk-toggleable__label {background-color: #d4ebff;}#sk-container-id-7 div.sk-serial::before {content: \"\";position: absolute;border-left: 1px solid gray;box-sizing: border-box;top: 0;bottom: 0;left: 50%;z-index: 0;}#sk-container-id-7 div.sk-serial {display: flex;flex-direction: column;align-items: center;background-color: white;padding-right: 0.2em;padding-left: 0.2em;position: relative;}#sk-container-id-7 div.sk-item {position: relative;z-index: 1;}#sk-container-id-7 div.sk-parallel {display: flex;align-items: stretch;justify-content: center;background-color: white;position: relative;}#sk-container-id-7 div.sk-item::before, #sk-container-id-7 div.sk-parallel-item::before {content: \"\";position: absolute;border-left: 1px solid gray;box-sizing: border-box;top: 0;bottom: 0;left: 50%;z-index: -1;}#sk-container-id-7 div.sk-parallel-item {display: flex;flex-direction: column;z-index: 1;position: relative;background-color: white;}#sk-container-id-7 div.sk-parallel-item:first-child::after {align-self: flex-end;width: 50%;}#sk-container-id-7 div.sk-parallel-item:last-child::after {align-self: flex-start;width: 50%;}#sk-container-id-7 div.sk-parallel-item:only-child::after {width: 0;}#sk-container-id-7 div.sk-dashed-wrapped {border: 1px dashed gray;margin: 0 0.4em 0.5em 0.4em;box-sizing: border-box;padding-bottom: 0.4em;background-color: white;}#sk-container-id-7 div.sk-label label {font-family: monospace;font-weight: bold;display: inline-block;line-height: 1.2em;}#sk-container-id-7 div.sk-label-container {text-align: center;}#sk-container-id-7 div.sk-container {/* jupyter's `normalize.less` sets `[hidden] { display: none; }` but bootstrap.min.css set `[hidden] { display: none !important; }` so we also need the `!important` here to be able to override the default hidden behavior on the sphinx rendered scikit-learn.org. See: https://github.com/scikit-learn/scikit-learn/issues/21755 */display: inline-block !important;position: relative;}#sk-container-id-7 div.sk-text-repr-fallback {display: none;}</style><div id=\"sk-container-id-7\" class=\"sk-top-container\"><div class=\"sk-text-repr-fallback\"><pre>SVC(gamma=0.1)</pre><b>In a Jupyter environment, please rerun this cell to show the HTML representation or trust the notebook. <br />On GitHub, the HTML representation is unable to render, please try loading this page with nbviewer.org.</b></div><div class=\"sk-container\" hidden><div class=\"sk-item\"><div class=\"sk-estimator sk-toggleable\"><input class=\"sk-toggleable__control sk-hidden--visually\" id=\"sk-estimator-id-7\" type=\"checkbox\" checked><label for=\"sk-estimator-id-7\" class=\"sk-toggleable__label sk-toggleable__label-arrow\">SVC</label><div class=\"sk-toggleable__content\"><pre>SVC(gamma=0.1)</pre></div></div></div></div></div>"
      ],
      "text/plain": [
       "SVC(gamma=0.1)"
      ]
     },
     "execution_count": 64,
     "metadata": {},
     "output_type": "execute_result"
    }
   ],
   "source": [
    "svm = SVC(kernel= \"rbf\", gamma = 0.1)\n",
    "svm.fit(X_train, y_train)"
   ]
  },
  {
   "cell_type": "code",
   "execution_count": 65,
   "id": "f03f86fb",
   "metadata": {},
   "outputs": [
    {
     "name": "stdout",
     "output_type": "stream",
     "text": [
      "Accuracy:  0.5515\n",
      "Classification Report: \n",
      "               precision    recall  f1-score   support\n",
      "\n",
      "           0       0.55      0.64      0.59      3054\n",
      "           1       0.55      0.46      0.50      2946\n",
      "\n",
      "    accuracy                           0.55      6000\n",
      "   macro avg       0.55      0.55      0.55      6000\n",
      "weighted avg       0.55      0.55      0.55      6000\n",
      "\n"
     ]
    }
   ],
   "source": [
    "y_pred = svm.predict(X_test)\n",
    "print(\"Accuracy: \", accuracy_score(y_test, y_pred))\n",
    "print(\"Classification Report: \\n\",classification_report(y_test, y_pred))"
   ]
  },
  {
   "cell_type": "code",
   "execution_count": 66,
   "id": "5cfe1dba",
   "metadata": {},
   "outputs": [],
   "source": [
    "from sklearn.metrics import confusion_matrix"
   ]
  },
  {
   "cell_type": "code",
   "execution_count": 67,
   "id": "f319b54d",
   "metadata": {},
   "outputs": [
    {
     "name": "stdout",
     "output_type": "stream",
     "text": [
      "Confusion Matrix: \n",
      " [[1959 1095]\n",
      " [1596 1350]]\n"
     ]
    }
   ],
   "source": [
    "print(\"Confusion Matrix: \\n\", confusion_matrix(y_test, y_pred))"
   ]
  },
  {
   "cell_type": "code",
   "execution_count": null,
   "id": "dc185d11",
   "metadata": {},
   "outputs": [],
   "source": []
  }
 ],
 "metadata": {
  "kernelspec": {
   "display_name": "Python 3 (ipykernel)",
   "language": "python",
   "name": "python3"
  },
  "language_info": {
   "codemirror_mode": {
    "name": "ipython",
    "version": 3
   },
   "file_extension": ".py",
   "mimetype": "text/x-python",
   "name": "python",
   "nbconvert_exporter": "python",
   "pygments_lexer": "ipython3",
   "version": "3.9.16"
  }
 },
 "nbformat": 4,
 "nbformat_minor": 5
}
