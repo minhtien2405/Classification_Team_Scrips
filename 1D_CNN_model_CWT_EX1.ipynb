{
 "cells": [
  {
   "cell_type": "code",
   "execution_count": 1,
   "id": "2fcf38a6",
   "metadata": {},
   "outputs": [
    {
     "name": "stderr",
     "output_type": "stream",
     "text": [
      "2023-06-27 04:31:43.182840: I tensorflow/core/platform/cpu_feature_guard.cc:182] This TensorFlow binary is optimized to use available CPU instructions in performance-critical operations.\n",
      "To enable the following instructions: AVX2 FMA, in other operations, rebuild TensorFlow with the appropriate compiler flags.\n"
     ]
    }
   ],
   "source": [
    "import os\n",
    "import pywt\n",
    "import librosa\n",
    "import tensorflow as tf\n",
    "import numpy as np \n",
    "import matplotlib.pyplot as plt\n",
    "import pandas as pd\n",
    "from sklearn.model_selection import train_test_split\n",
    "from sklearn.preprocessing import LabelEncoder, StandardScaler\n",
    "from sklearn.metrics import *\n",
    "\n",
    "import tensorflow as tf\n",
    "from tensorflow.keras import layers\n",
    "from tensorflow.keras import *\n",
    "from tensorflow.keras.callbacks import EarlyStopping\n",
    "import time\n",
    "\n",
    "\n",
    "import warnings\n",
    "warnings.filterwarnings('ignore')\n"
   ]
  },
  {
   "cell_type": "code",
   "execution_count": 2,
   "id": "1d8abae9",
   "metadata": {},
   "outputs": [
    {
     "data": {
      "text/plain": [
       "'/root/audio_dataset/'"
      ]
     },
     "execution_count": 2,
     "metadata": {},
     "output_type": "execute_result"
    }
   ],
   "source": [
    "path = os.getcwd() + \"/audio_dataset/\"\n",
    "path"
   ]
  },
  {
   "cell_type": "code",
   "execution_count": 3,
   "id": "b2996457",
   "metadata": {},
   "outputs": [
    {
     "name": "stdout",
     "output_type": "stream",
     "text": [
      "/root/audio_dataset//train\n",
      "/root/audio_dataset//val\n",
      "/root/audio_dataset//test\n"
     ]
    }
   ],
   "source": [
    "TRAINING_DIR = path+\"/train\"\n",
    "VALIDATION_DIR = path + \"/val\"\n",
    "TEST_DIR = path + \"/test\"\n",
    "\n",
    "print(TRAINING_DIR)\n",
    "print(VALIDATION_DIR)\n",
    "print(TEST_DIR)"
   ]
  },
  {
   "cell_type": "code",
   "execution_count": 4,
   "id": "6ca6acff",
   "metadata": {},
   "outputs": [],
   "source": [
    "def load_wav_16k_mono(filename):\n",
    "    wav, sr = librosa.load(filename, sr = 16000, mono = True)\n",
    "    sr = tf.cast(sr, dtype = tf.int64)\n",
    "    return wav, sr\n"
   ]
  },
  {
   "cell_type": "code",
   "execution_count": 5,
   "id": "4c4d73f1",
   "metadata": {},
   "outputs": [],
   "source": [
    "# audio_data = []\n",
    "# labels = []\n",
    "# sampling_rate = []\n",
    "# file_names = []\n",
    "\n",
    "# d = 0\n",
    "# for file_name in Queen:\n",
    "#     d += 1\n",
    "#     audio, sr = load_wav_16k_mono(os.path.join(path + \"\\\\Queen\", file_name))\n",
    "#     labels.append(1)\n",
    "#     sampling_rate.append(sr)\n",
    "#     file_names.append(file_name)\n",
    "#     audio_data.append(audio)\n",
    "#     if d == 1000:\n",
    "#         break\n",
    "# d = 0\n",
    "# for file_name in QueenLess:\n",
    "#     d += 1\n",
    "#     audio, sr = load_wav_16k_mono(os.path.join(path + \"\\\\Queenless\", file_name))\n",
    "#     labels.append(0)\n",
    "#     sampling_rate.append(sr)\n",
    "#     file_names.append(file_name)\n",
    "#     audio_data.append(audio)\n",
    "#     if d == 1000:\n",
    "#         break"
   ]
  },
  {
   "cell_type": "code",
   "execution_count": 6,
   "id": "09748541",
   "metadata": {},
   "outputs": [],
   "source": [
    "def data_loader(path):\n",
    "    audio_data = []\n",
    "    labels = []\n",
    "    for folder in os.listdir(path):\n",
    "        for file in os.listdir(os.path.join(path, folder)):\n",
    "            audio, sr = load_wav_16k_mono(os.path.join(path, folder, file))\n",
    "            audio_data.append(audio)\n",
    "            labels.append(folder)\n",
    "    return audio_data, labels"
   ]
  },
  {
   "cell_type": "code",
   "execution_count": 7,
   "id": "3cf76a47",
   "metadata": {},
   "outputs": [
    {
     "name": "stderr",
     "output_type": "stream",
     "text": [
      "2023-06-27 04:31:47.560893: I tensorflow/core/common_runtime/gpu/gpu_device.cc:1635] Created device /job:localhost/replica:0/task:0/device:GPU:0 with 22078 MB memory:  -> device: 0, name: NVIDIA GeForce RTX 4090, pci bus id: 0000:c1:00.0, compute capability: 8.9\n"
     ]
    }
   ],
   "source": [
    "X_train, Y_train = data_loader(TRAINING_DIR)\n",
    "X_val, Y_val = data_loader(VALIDATION_DIR)\n",
    "X_test, Y_test = data_loader(TEST_DIR)"
   ]
  },
  {
   "cell_type": "code",
   "execution_count": 8,
   "id": "a9462a58",
   "metadata": {},
   "outputs": [
    {
     "name": "stdout",
     "output_type": "stream",
     "text": [
      "There are 14000 training samples and 14000 training labels\n",
      "There are 2000 validation samples and 2000 validation labels\n",
      "There are 4000 testing samples and 4000 testing labels\n"
     ]
    }
   ],
   "source": [
    "print(\"There are {} training samples and {} training labels\".format(len(X_train), len(Y_train)))\n",
    "print(\"There are {} validation samples and {} validation labels\".format(len(X_val), len(Y_val)))\n",
    "print(\"There are {} testing samples and {} testing labels\".format(len(X_test), len(Y_test)))"
   ]
  },
  {
   "cell_type": "code",
   "execution_count": 9,
   "id": "bfffd9c9",
   "metadata": {},
   "outputs": [
    {
     "name": "stdout",
     "output_type": "stream",
     "text": [
      "Shape of X_train: (14000, 32000)\n",
      "Shape of X_val: (2000, 32000)\n",
      "Shape of X_test: (4000, 32000)\n"
     ]
    }
   ],
   "source": [
    "X_train = np.array(X_train)\n",
    "X_val = np.array(X_val)\n",
    "X_test = np.array(X_test)\n",
    "Y_train = np.array(Y_train)\n",
    "Y_val = np.array(Y_val)\n",
    "Y_test = np.array(Y_test)\n",
    "\n",
    "print(\"Shape of X_train: {}\".format(X_train.shape))\n",
    "print(\"Shape of X_val: {}\".format(X_val.shape))\n",
    "print(\"Shape of X_test: {}\".format(X_test.shape))"
   ]
  },
  {
   "cell_type": "code",
   "execution_count": 10,
   "id": "328b0b6f",
   "metadata": {},
   "outputs": [
    {
     "name": "stdout",
     "output_type": "stream",
     "text": [
      "Shape of X_train: (14000, 32000, 1)\n",
      "Shape of X_val: (2000, 32000, 1)\n",
      "Shape of X_test: (4000, 32000, 1)\n"
     ]
    }
   ],
   "source": [
    "# Reshape the input data\n",
    "X_train = X_train.reshape( (X_train.shape[0], X_train.shape[1], 1) )\n",
    "X_val = X_val.reshape( (X_val.shape[0], X_val.shape[1], 1) )\n",
    "X_test = X_test.reshape( (X_test.shape[0], X_test.shape[1], 1) )\n",
    "Y_train = Y_train.reshape( (Y_train.shape[0], 1) )\n",
    "Y_val = Y_val.reshape( (Y_val.shape[0], 1) )\n",
    "Y_test = Y_test.reshape( (Y_test.shape[0], 1) )\n",
    "\n",
    "print(\"Shape of X_train: {}\".format(X_train.shape))\n",
    "print(\"Shape of X_val: {}\".format(X_val.shape))\n",
    "print(\"Shape of X_test: {}\".format(X_test.shape))"
   ]
  },
  {
   "cell_type": "code",
   "execution_count": 11,
   "id": "4ed2b956",
   "metadata": {},
   "outputs": [],
   "source": [
    "label_encoder = LabelEncoder()\n",
    "Y_train = label_encoder.fit_transform(Y_train)\n",
    "Y_val = label_encoder.fit_transform(Y_val)\n",
    "Y_test = label_encoder.fit_transform(Y_test)"
   ]
  },
  {
   "cell_type": "code",
   "execution_count": 12,
   "id": "91135f17-5a17-4c5d-9106-abbb3d3754a5",
   "metadata": {},
   "outputs": [],
   "source": [
    "# shuffle the dataset\n",
    "shuffle_index = np.random.permutation(len(X_train))\n",
    "X_train, Y_train = X_train[shuffle_index], Y_train[shuffle_index]\n",
    "shuffle_index = np.random.permutation(len(X_val))\n",
    "X_val, Y_val = X_val[shuffle_index], Y_val[shuffle_index]\n",
    "shuffle_index = np.random.permutation(len(X_test))\n",
    "X_test, Y_test = X_test[shuffle_index], Y_test[shuffle_index]"
   ]
  },
  {
   "cell_type": "code",
   "execution_count": 13,
   "id": "19cb97cd",
   "metadata": {},
   "outputs": [],
   "source": [
    "model = Sequential([\n",
    "    layers.Input(shape=(X_train.shape[1:])),\n",
    "    layers.Conv1D(16, 3, activation='relu'),\n",
    "    layers.MaxPooling1D(2),\n",
    "    layers.Conv1D(32, 3, activation='relu'),\n",
    "    layers.MaxPooling1D(2),\n",
    "    layers.Conv1D(64, 3, activation='relu'),\n",
    "    layers.MaxPooling1D(2),\n",
    "    layers.Conv1D(128, 3, activation='relu'),\n",
    "    layers.MaxPooling1D(2),\n",
    "    layers.Conv1D(256, 3, activation='relu'),\n",
    "    layers.MaxPooling1D(2),\n",
    "    layers.Conv1D(512, 3, activation='relu'),\n",
    "    layers.MaxPooling1D(2),\n",
    "    layers.Flatten(),\n",
    "    layers.Dense(1024, activation='relu'),\n",
    "    layers.Dropout(0.5),\n",
    "    layers.Dense(512, activation='relu'),\n",
    "    layers.Dropout(0.5),\n",
    "    layers.Dense(1, activation='sigmoid')\n",
    "])"
   ]
  },
  {
   "cell_type": "code",
   "execution_count": 14,
   "id": "1d3b1e10",
   "metadata": {},
   "outputs": [
    {
     "name": "stdout",
     "output_type": "stream",
     "text": [
      "Model: \"sequential\"\n",
      "_________________________________________________________________\n",
      " Layer (type)                Output Shape              Param #   \n",
      "=================================================================\n",
      " conv1d (Conv1D)             (None, 31998, 16)         64        \n",
      "                                                                 \n",
      " max_pooling1d (MaxPooling1D  (None, 15999, 16)        0         \n",
      " )                                                               \n",
      "                                                                 \n",
      " conv1d_1 (Conv1D)           (None, 15997, 32)         1568      \n",
      "                                                                 \n",
      " max_pooling1d_1 (MaxPooling  (None, 7998, 32)         0         \n",
      " 1D)                                                             \n",
      "                                                                 \n",
      " conv1d_2 (Conv1D)           (None, 7996, 64)          6208      \n",
      "                                                                 \n",
      " max_pooling1d_2 (MaxPooling  (None, 3998, 64)         0         \n",
      " 1D)                                                             \n",
      "                                                                 \n",
      " conv1d_3 (Conv1D)           (None, 3996, 128)         24704     \n",
      "                                                                 \n",
      " max_pooling1d_3 (MaxPooling  (None, 1998, 128)        0         \n",
      " 1D)                                                             \n",
      "                                                                 \n",
      " conv1d_4 (Conv1D)           (None, 1996, 256)         98560     \n",
      "                                                                 \n",
      " max_pooling1d_4 (MaxPooling  (None, 998, 256)         0         \n",
      " 1D)                                                             \n",
      "                                                                 \n",
      " conv1d_5 (Conv1D)           (None, 996, 512)          393728    \n",
      "                                                                 \n",
      " max_pooling1d_5 (MaxPooling  (None, 498, 512)         0         \n",
      " 1D)                                                             \n",
      "                                                                 \n",
      " flatten (Flatten)           (None, 254976)            0         \n",
      "                                                                 \n",
      " dense (Dense)               (None, 1024)              261096448 \n",
      "                                                                 \n",
      " dropout (Dropout)           (None, 1024)              0         \n",
      "                                                                 \n",
      " dense_1 (Dense)             (None, 512)               524800    \n",
      "                                                                 \n",
      " dropout_1 (Dropout)         (None, 512)               0         \n",
      "                                                                 \n",
      " dense_2 (Dense)             (None, 1)                 513       \n",
      "                                                                 \n",
      "=================================================================\n",
      "Total params: 262,146,593\n",
      "Trainable params: 262,146,593\n",
      "Non-trainable params: 0\n",
      "_________________________________________________________________\n"
     ]
    }
   ],
   "source": [
    "model.compile(optimizer= tf.keras.optimizers.Adam(learning_rate=0.0001),\n",
    "              loss='binary_crossentropy',\n",
    "              metrics=['accuracy'],\n",
    "             )\n",
    "# tf.keras.losses.BinaryCrossentropy()\n",
    "model.summary()"
   ]
  },
  {
   "cell_type": "code",
   "execution_count": 15,
   "id": "830021c8",
   "metadata": {},
   "outputs": [],
   "source": [
    "earlystopper = EarlyStopping(\n",
    "    monitor='val_loss',\n",
    "    patience=20,\n",
    "    restore_best_weights=True\n",
    ")"
   ]
  },
  {
   "cell_type": "code",
   "execution_count": 23,
   "id": "9bfc87cd",
   "metadata": {},
   "outputs": [
    {
     "name": "stdout",
     "output_type": "stream",
     "text": [
      "Epoch 1/120\n",
      "438/438 [==============================] - 16s 35ms/step - loss: 0.4207 - accuracy: 0.8171 - val_loss: 0.4712 - val_accuracy: 0.7825\n",
      "Epoch 2/120\n",
      "438/438 [==============================] - 13s 30ms/step - loss: 0.3848 - accuracy: 0.8304 - val_loss: 0.5156 - val_accuracy: 0.7505\n",
      "Epoch 3/120\n",
      "438/438 [==============================] - 14s 31ms/step - loss: 0.3594 - accuracy: 0.8401 - val_loss: 0.4598 - val_accuracy: 0.7975\n",
      "Epoch 4/120\n",
      "438/438 [==============================] - 13s 30ms/step - loss: 0.3443 - accuracy: 0.8497 - val_loss: 0.4765 - val_accuracy: 0.7945\n",
      "Epoch 5/120\n",
      "438/438 [==============================] - 13s 30ms/step - loss: 0.3019 - accuracy: 0.8719 - val_loss: 0.5166 - val_accuracy: 0.7970\n",
      "Epoch 6/120\n",
      "438/438 [==============================] - 13s 30ms/step - loss: 0.2888 - accuracy: 0.8783 - val_loss: 0.5207 - val_accuracy: 0.7790\n",
      "Epoch 7/120\n",
      "438/438 [==============================] - 13s 30ms/step - loss: 0.2303 - accuracy: 0.9021 - val_loss: 0.5885 - val_accuracy: 0.7880\n",
      "Epoch 8/120\n",
      "438/438 [==============================] - 13s 30ms/step - loss: 0.1897 - accuracy: 0.9242 - val_loss: 0.6344 - val_accuracy: 0.7930\n",
      "Epoch 9/120\n",
      "438/438 [==============================] - 13s 30ms/step - loss: 0.1519 - accuracy: 0.9415 - val_loss: 0.7670 - val_accuracy: 0.7895\n",
      "Epoch 10/120\n",
      "438/438 [==============================] - 13s 30ms/step - loss: 0.1118 - accuracy: 0.9586 - val_loss: 0.7308 - val_accuracy: 0.7775\n",
      "Epoch 11/120\n",
      "438/438 [==============================] - 13s 30ms/step - loss: 0.0889 - accuracy: 0.9689 - val_loss: 0.9143 - val_accuracy: 0.7815\n",
      "Epoch 12/120\n",
      "438/438 [==============================] - 13s 30ms/step - loss: 0.0693 - accuracy: 0.9765 - val_loss: 1.1062 - val_accuracy: 0.7940\n",
      "Epoch 13/120\n",
      "438/438 [==============================] - 13s 30ms/step - loss: 0.0607 - accuracy: 0.9804 - val_loss: 1.1176 - val_accuracy: 0.7750\n",
      "Epoch 14/120\n",
      "438/438 [==============================] - 13s 30ms/step - loss: 0.0504 - accuracy: 0.9842 - val_loss: 1.0160 - val_accuracy: 0.7755\n",
      "Epoch 15/120\n",
      "438/438 [==============================] - 13s 30ms/step - loss: 0.0549 - accuracy: 0.9838 - val_loss: 1.1229 - val_accuracy: 0.7700\n",
      "Epoch 16/120\n",
      "438/438 [==============================] - 13s 30ms/step - loss: 0.0757 - accuracy: 0.9826 - val_loss: 1.1558 - val_accuracy: 0.7750\n",
      "Epoch 17/120\n",
      "438/438 [==============================] - 13s 30ms/step - loss: 0.0589 - accuracy: 0.9846 - val_loss: 1.2927 - val_accuracy: 0.7780\n",
      "Epoch 18/120\n",
      "438/438 [==============================] - 13s 30ms/step - loss: 0.0215 - accuracy: 0.9928 - val_loss: 1.2799 - val_accuracy: 0.7790\n",
      "Epoch 19/120\n",
      "438/438 [==============================] - 13s 30ms/step - loss: 0.0213 - accuracy: 0.9926 - val_loss: 1.3103 - val_accuracy: 0.7510\n",
      "Epoch 20/120\n",
      "438/438 [==============================] - 13s 30ms/step - loss: 0.0266 - accuracy: 0.9919 - val_loss: 1.2331 - val_accuracy: 0.7610\n",
      "Epoch 21/120\n",
      "438/438 [==============================] - 13s 30ms/step - loss: 0.0202 - accuracy: 0.9929 - val_loss: 1.1655 - val_accuracy: 0.7750\n",
      "Epoch 22/120\n",
      "438/438 [==============================] - 13s 30ms/step - loss: 0.0184 - accuracy: 0.9942 - val_loss: 1.3919 - val_accuracy: 0.7730\n",
      "Epoch 23/120\n",
      "438/438 [==============================] - 14s 31ms/step - loss: 0.0174 - accuracy: 0.9941 - val_loss: 1.2617 - val_accuracy: 0.7615\n",
      "Training completed in 308 seconds.\n"
     ]
    }
   ],
   "source": [
    "epochs = 120\n",
    "batch_size = 32\n",
    "current_time = int(time.time())\n",
    "stop_training_callback = earlystopper\n",
    "history = model.fit(X_train, Y_train, \n",
    "                    epochs=epochs, \n",
    "                    batch_size=batch_size,\n",
    "                    validation_data=(X_val, Y_val), \n",
    "                    callbacks=[stop_training_callback])\n",
    "print(\"Training completed in {} seconds.\".format(int(time.time()-current_time)))"
   ]
  },
  {
   "cell_type": "code",
   "execution_count": 24,
   "id": "60ef1d7b",
   "metadata": {},
   "outputs": [
    {
     "name": "stdout",
     "output_type": "stream",
     "text": [
      "125/125 [==============================] - 1s 5ms/step\n"
     ]
    }
   ],
   "source": [
    "test_predict = model.predict(X_test)"
   ]
  },
  {
   "cell_type": "code",
   "execution_count": 25,
   "id": "07ea1165-14dd-427f-b5aa-99d66ce24efc",
   "metadata": {},
   "outputs": [
    {
     "name": "stdout",
     "output_type": "stream",
     "text": [
      "        0\n",
      "0     1.0\n",
      "1     0.0\n",
      "2     1.0\n",
      "3     1.0\n",
      "4     0.0\n",
      "...   ...\n",
      "3995  1.0\n",
      "3996  1.0\n",
      "3997  1.0\n",
      "3998  1.0\n",
      "3999  1.0\n",
      "\n",
      "[4000 rows x 1 columns]\n",
      "4000\n"
     ]
    }
   ],
   "source": [
    "show_test_predict = np.round(test_predict, 0)\n",
    "show_test_predict = pd.DataFrame(show_test_predict)\n",
    "print(show_test_predict)\n",
    "print(len(show_test_predict))"
   ]
  },
  {
   "cell_type": "code",
   "execution_count": 26,
   "id": "65787b08-449e-45d1-8013-3e8eb3e9873b",
   "metadata": {},
   "outputs": [
    {
     "data": {
      "text/plain": [
       "0.8044591246903385"
      ]
     },
     "execution_count": 26,
     "metadata": {},
     "output_type": "execute_result"
    }
   ],
   "source": [
    "from sklearn.metrics import f1_score\n",
    "f1_score(Y_test, show_test_predict, average='macro')"
   ]
  },
  {
   "cell_type": "code",
   "execution_count": 27,
   "id": "ea4b9b42-990c-4fb3-89f5-6601eb8450a6",
   "metadata": {},
   "outputs": [],
   "source": [
    "from sklearn.metrics import confusion_matrix\n",
    "cf = confusion_matrix(Y_test, show_test_predict)"
   ]
  },
  {
   "cell_type": "code",
   "execution_count": 28,
   "id": "c98bd47e-c028-4c53-bb82-19aeb88bf451",
   "metadata": {},
   "outputs": [
    {
     "data": {
      "text/plain": [
       "array([[1449,  551],\n",
       "       [ 226, 1774]])"
      ]
     },
     "execution_count": 28,
     "metadata": {},
     "output_type": "execute_result"
    }
   ],
   "source": [
    "cf"
   ]
  },
  {
   "cell_type": "code",
   "execution_count": 30,
   "id": "f4480678-2844-44f3-9093-0897126ae8ef",
   "metadata": {},
   "outputs": [
    {
     "name": "stdout",
     "output_type": "stream",
     "text": [
      "              precision    recall  f1-score   support\n",
      "\n",
      "           0       0.87      0.72      0.79      2000\n",
      "           1       0.76      0.89      0.82      2000\n",
      "\n",
      "    accuracy                           0.81      4000\n",
      "   macro avg       0.81      0.81      0.80      4000\n",
      "weighted avg       0.81      0.81      0.80      4000\n",
      "\n"
     ]
    }
   ],
   "source": [
    "print(classification_report(Y_test, show_test_predict))"
   ]
  },
  {
   "cell_type": "code",
   "execution_count": null,
   "id": "b978ec3c-0111-47ed-9325-26517484e09e",
   "metadata": {},
   "outputs": [],
   "source": []
  }
 ],
 "metadata": {
  "kernelspec": {
   "display_name": "Python 3 (ipykernel)",
   "language": "python",
   "name": "python3"
  },
  "language_info": {
   "codemirror_mode": {
    "name": "ipython",
    "version": 3
   },
   "file_extension": ".py",
   "mimetype": "text/x-python",
   "name": "python",
   "nbconvert_exporter": "python",
   "pygments_lexer": "ipython3",
   "version": "3.9.16"
  }
 },
 "nbformat": 4,
 "nbformat_minor": 5
}
