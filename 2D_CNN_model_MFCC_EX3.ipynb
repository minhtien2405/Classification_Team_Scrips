{
 "cells": [
  {
   "cell_type": "code",
   "execution_count": 13,
   "metadata": {
    "tags": []
   },
   "outputs": [],
   "source": [
    "import os\n",
    "import librosa\n",
    "import numpy as np\n",
    "import pandas as pd\n",
    "import matplotlib.pyplot as plt\n",
    "import tensorflow as tf\n",
    "from tensorflow import keras\n",
    "from tensorflow.keras import layers\n",
    "from tensorflow.keras.preprocessing.image import ImageDataGenerator\n",
    "from tensorflow.keras.callbacks import EarlyStopping\n",
    "\n",
    "import warnings\n",
    "warnings.filterwarnings('ignore')"
   ]
  },
  {
   "cell_type": "code",
   "execution_count": 14,
   "metadata": {
    "tags": []
   },
   "outputs": [
    {
     "data": {
      "text/plain": [
       "'d:\\\\Study\\\\Code\\\\Python\\\\Sound_Classification_Bee_Qeen_Queenless/image_data'"
      ]
     },
     "execution_count": 14,
     "metadata": {},
     "output_type": "execute_result"
    }
   ],
   "source": [
    "path = os.getcwd() + \"/image_data\"\n",
    "path"
   ]
  },
  {
   "cell_type": "code",
   "execution_count": 15,
   "metadata": {
    "tags": []
   },
   "outputs": [
    {
     "name": "stdout",
     "output_type": "stream",
     "text": [
      "d:\\Study\\Code\\Python\\Sound_Classification_Bee_Qeen_Queenless/image_data/train\n",
      "d:\\Study\\Code\\Python\\Sound_Classification_Bee_Qeen_Queenless/image_data/val\n",
      "d:\\Study\\Code\\Python\\Sound_Classification_Bee_Qeen_Queenless/image_data/test\n"
     ]
    }
   ],
   "source": [
    "TRAINING_DIR = path+\"/train\"\n",
    "VALIDATION_DIR = path + \"/val\"\n",
    "TEST_DIR = path + \"/test\"\n",
    "\n",
    "print(TRAINING_DIR)\n",
    "print(VALIDATION_DIR)\n",
    "print(TEST_DIR)"
   ]
  },
  {
   "cell_type": "code",
   "execution_count": 16,
   "metadata": {
    "tags": []
   },
   "outputs": [],
   "source": [
    "def train_val_generators(TRAINING_DIR, VALIDATION_DIR, TEST_DIR):\n",
    "  train_datagen = ImageDataGenerator(rescale=1.0/255)\n",
    "\n",
    "  train_generator = train_datagen.flow_from_directory(directory=TRAINING_DIR,\n",
    "                                                      batch_size=32,\n",
    "                                                      class_mode=\"binary\",\n",
    "                                                      target_size=(224, 224))\n",
    "\n",
    "  validation_datagen = ImageDataGenerator(rescale=1.0/255)\n",
    "\n",
    "  validation_generator = validation_datagen.flow_from_directory(directory=VALIDATION_DIR,\n",
    "                                                                batch_size=32,\n",
    "                                                                class_mode=\"binary\",\n",
    "                                                                target_size=(224, 224))\n",
    "  test_datagen = ImageDataGenerator(rescale=1.0/255)\n",
    "  \n",
    "  test_generator = test_datagen.flow_from_directory(directory=TEST_DIR,\n",
    "                                                    batch_size=32,\n",
    "                                                    class_mode=\"binary\",\n",
    "                                                    target_size=(224, 224))\n",
    "  return train_generator, validation_generator, test_generator"
   ]
  },
  {
   "cell_type": "code",
   "execution_count": 17,
   "metadata": {
    "tags": []
   },
   "outputs": [
    {
     "name": "stdout",
     "output_type": "stream",
     "text": [
      "Found 14000 images belonging to 2 classes.\n",
      "Found 2000 images belonging to 2 classes.\n",
      "Found 4000 images belonging to 2 classes.\n",
      "{'Queen': 0, 'Queenless': 1}\n"
     ]
    }
   ],
   "source": [
    "train_generator, validation_generator, test_generator = train_val_generators(TRAINING_DIR, VALIDATION_DIR, TEST_DIR)\n",
    "\n",
    "class_names = train_generator.class_indices\n",
    "print(class_names)"
   ]
  },
  {
   "cell_type": "code",
   "execution_count": 18,
   "metadata": {
    "tags": []
   },
   "outputs": [],
   "source": [
    "img1, img2 = train_generator[0][:2]"
   ]
  },
  {
   "cell_type": "code",
   "execution_count": 19,
   "metadata": {
    "tags": []
   },
   "outputs": [],
   "source": [
    "# fig, ax = plt.subplots(2,3, figsize=(10,8))\n",
    "\n",
    "# ax[0].plot(img1, x_axis='time')"
   ]
  },
  {
   "cell_type": "code",
   "execution_count": 55,
   "metadata": {
    "tags": []
   },
   "outputs": [],
   "source": [
    "model = keras.Sequential([\n",
    "    layers.Conv2D(16, (3,3), activation = \"elu\", input_shape=(224, 224, 3)),\n",
    "    layers.MaxPooling2D(2,2),\n",
    "    layers.Conv2D(32, (3,3), activation = \"elu\", padding=\"same\",  kernel_regularizer=keras.regularizers.l2(0.0001)),\n",
    "    layers.MaxPooling2D(2,2),\n",
    "    layers.Conv2D(64, (3,3), activation = \"elu\", padding=\"same\",  kernel_regularizer=keras.regularizers.l2(0.0001)),\n",
    "    layers.MaxPooling2D(2,2),\n",
    "    layers.Conv2D(128, (3,3), activation = \"elu\", padding=\"same\",  kernel_regularizer=keras.regularizers.l2(0.0001)),\n",
    "    layers.MaxPooling2D(2,2),\n",
    "    layers.Flatten(),\n",
    "    layers.Dense(512, activation = \"elu\", kernel_regularizer=keras.regularizers.l2(0.0001)),\n",
    "    layers.Dropout(0.5),\n",
    "    layers.Dense(1, activation = \"sigmoid\", kernel_regularizer=keras.regularizers.l2(0.0001))               \n",
    "])\n",
    "# activation = \"elu\", \"relu\", \"selu\", \"sigmoid\", \"softmax\", \"softplus\", \"softsign\", \"tanh\", \"exponential\""
   ]
  },
  {
   "cell_type": "code",
   "execution_count": 56,
   "metadata": {
    "tags": []
   },
   "outputs": [
    {
     "name": "stdout",
     "output_type": "stream",
     "text": [
      "Model: \"sequential_9\"\n",
      "_________________________________________________________________\n",
      " Layer (type)                Output Shape              Param #   \n",
      "=================================================================\n",
      " conv2d_36 (Conv2D)          (None, 222, 222, 16)      448       \n",
      "                                                                 \n",
      " max_pooling2d_36 (MaxPoolin  (None, 111, 111, 16)     0         \n",
      " g2D)                                                            \n",
      "                                                                 \n",
      " conv2d_37 (Conv2D)          (None, 111, 111, 32)      4640      \n",
      "                                                                 \n",
      " max_pooling2d_37 (MaxPoolin  (None, 55, 55, 32)       0         \n",
      " g2D)                                                            \n",
      "                                                                 \n",
      " conv2d_38 (Conv2D)          (None, 55, 55, 64)        18496     \n",
      "                                                                 \n",
      " max_pooling2d_38 (MaxPoolin  (None, 27, 27, 64)       0         \n",
      " g2D)                                                            \n",
      "                                                                 \n",
      " conv2d_39 (Conv2D)          (None, 27, 27, 128)       73856     \n",
      "                                                                 \n",
      " max_pooling2d_39 (MaxPoolin  (None, 13, 13, 128)      0         \n",
      " g2D)                                                            \n",
      "                                                                 \n",
      " flatten_9 (Flatten)         (None, 21632)             0         \n",
      "                                                                 \n",
      " dense_40 (Dense)            (None, 512)               11076096  \n",
      "                                                                 \n",
      " dropout_40 (Dropout)        (None, 512)               0         \n",
      "                                                                 \n",
      " dense_41 (Dense)            (None, 1)                 513       \n",
      "                                                                 \n",
      "=================================================================\n",
      "Total params: 11,174,049\n",
      "Trainable params: 11,174,049\n",
      "Non-trainable params: 0\n",
      "_________________________________________________________________\n"
     ]
    }
   ],
   "source": [
    "model.compile(optimizer='adam',\n",
    "              loss='binary_crossentropy',\n",
    "              metrics=['accuracy'])\n",
    "# tf.keras.losses.BinaryCrossentropy()\n",
    "model.summary()"
   ]
  },
  {
   "cell_type": "code",
   "execution_count": 57,
   "metadata": {
    "tags": []
   },
   "outputs": [],
   "source": [
    "earlystopper = EarlyStopping(\n",
    "    monitor='val_loss',\n",
    "    patience=10,\n",
    "    restore_best_weights=True\n",
    ")"
   ]
  },
  {
   "cell_type": "code",
   "execution_count": 58,
   "metadata": {
    "tags": []
   },
   "outputs": [
    {
     "name": "stdout",
     "output_type": "stream",
     "text": [
      "Epoch 1/120\n",
      "438/438 [==============================] - 41s 90ms/step - loss: 0.8065 - accuracy: 0.6426 - val_loss: 0.6321 - val_accuracy: 0.7205\n",
      "Epoch 2/120\n",
      "438/438 [==============================] - 39s 89ms/step - loss: 0.6142 - accuracy: 0.7341 - val_loss: 0.5882 - val_accuracy: 0.7455\n",
      "Epoch 3/120\n",
      "438/438 [==============================] - 39s 90ms/step - loss: 0.5675 - accuracy: 0.7541 - val_loss: 0.5561 - val_accuracy: 0.7685\n",
      "Epoch 4/120\n",
      "438/438 [==============================] - 39s 90ms/step - loss: 0.5480 - accuracy: 0.7653 - val_loss: 0.5367 - val_accuracy: 0.7635\n",
      "Epoch 5/120\n",
      "438/438 [==============================] - 40s 90ms/step - loss: 0.5275 - accuracy: 0.7795 - val_loss: 0.6176 - val_accuracy: 0.7005\n",
      "Epoch 6/120\n",
      "438/438 [==============================] - 40s 91ms/step - loss: 0.5268 - accuracy: 0.7790 - val_loss: 0.5087 - val_accuracy: 0.8025\n",
      "Epoch 7/120\n",
      "438/438 [==============================] - 40s 91ms/step - loss: 0.5167 - accuracy: 0.7839 - val_loss: 0.4957 - val_accuracy: 0.8005\n",
      "Epoch 8/120\n",
      "438/438 [==============================] - 40s 91ms/step - loss: 0.5018 - accuracy: 0.7978 - val_loss: 0.4820 - val_accuracy: 0.8100\n",
      "Epoch 9/120\n",
      "438/438 [==============================] - 40s 91ms/step - loss: 0.5171 - accuracy: 0.7964 - val_loss: 0.4764 - val_accuracy: 0.8245\n",
      "Epoch 10/120\n",
      "438/438 [==============================] - 40s 91ms/step - loss: 0.4802 - accuracy: 0.8141 - val_loss: 0.4575 - val_accuracy: 0.8275\n",
      "Epoch 11/120\n",
      "438/438 [==============================] - 41s 93ms/step - loss: 0.4832 - accuracy: 0.8197 - val_loss: 0.4653 - val_accuracy: 0.8310\n",
      "Epoch 12/120\n",
      "438/438 [==============================] - 40s 91ms/step - loss: 0.4635 - accuracy: 0.8259 - val_loss: 0.4761 - val_accuracy: 0.8215\n",
      "Epoch 13/120\n",
      "438/438 [==============================] - 41s 95ms/step - loss: 0.4561 - accuracy: 0.8361 - val_loss: 0.4389 - val_accuracy: 0.8510\n",
      "Epoch 14/120\n",
      "438/438 [==============================] - 42s 95ms/step - loss: 0.4530 - accuracy: 0.8372 - val_loss: 0.4600 - val_accuracy: 0.8295\n",
      "Epoch 15/120\n",
      "438/438 [==============================] - 42s 95ms/step - loss: 0.4425 - accuracy: 0.8408 - val_loss: 0.4235 - val_accuracy: 0.8550\n",
      "Epoch 16/120\n",
      "438/438 [==============================] - 47s 107ms/step - loss: 0.4245 - accuracy: 0.8502 - val_loss: 0.4242 - val_accuracy: 0.8555\n",
      "Epoch 17/120\n",
      "438/438 [==============================] - 42s 95ms/step - loss: 0.4438 - accuracy: 0.8481 - val_loss: 0.4495 - val_accuracy: 0.8530\n",
      "Epoch 18/120\n",
      "438/438 [==============================] - 41s 94ms/step - loss: 0.4233 - accuracy: 0.8559 - val_loss: 0.4208 - val_accuracy: 0.8550\n",
      "Epoch 19/120\n",
      "438/438 [==============================] - 43s 99ms/step - loss: 0.4119 - accuracy: 0.8615 - val_loss: 0.4693 - val_accuracy: 0.8460\n",
      "Epoch 20/120\n",
      "438/438 [==============================] - 42s 95ms/step - loss: 0.4270 - accuracy: 0.8586 - val_loss: 0.4562 - val_accuracy: 0.8505\n",
      "Epoch 21/120\n",
      "438/438 [==============================] - 41s 94ms/step - loss: 0.4155 - accuracy: 0.8639 - val_loss: 0.4419 - val_accuracy: 0.8565\n",
      "Epoch 22/120\n",
      "438/438 [==============================] - 41s 93ms/step - loss: 0.4060 - accuracy: 0.8694 - val_loss: 0.4415 - val_accuracy: 0.8685\n",
      "Epoch 23/120\n",
      "438/438 [==============================] - 41s 95ms/step - loss: 0.4109 - accuracy: 0.8685 - val_loss: 0.4639 - val_accuracy: 0.8535\n",
      "Epoch 24/120\n",
      "438/438 [==============================] - 41s 92ms/step - loss: 0.4034 - accuracy: 0.8755 - val_loss: 0.4419 - val_accuracy: 0.8545\n",
      "Epoch 25/120\n",
      "438/438 [==============================] - 41s 94ms/step - loss: 0.4051 - accuracy: 0.8770 - val_loss: 0.4420 - val_accuracy: 0.8700\n",
      "Epoch 26/120\n",
      "438/438 [==============================] - 41s 94ms/step - loss: 0.4028 - accuracy: 0.8769 - val_loss: 0.4416 - val_accuracy: 0.8670\n",
      "Epoch 27/120\n",
      "438/438 [==============================] - 41s 94ms/step - loss: 0.3907 - accuracy: 0.8846 - val_loss: 0.4606 - val_accuracy: 0.8635\n",
      "Epoch 28/120\n",
      "438/438 [==============================] - 42s 95ms/step - loss: 0.4006 - accuracy: 0.8846 - val_loss: 0.4690 - val_accuracy: 0.8625\n"
     ]
    }
   ],
   "source": [
    "epochs = 120\n",
    "history = model.fit(\n",
    "    train_generator,\n",
    "    validation_data=validation_generator,\n",
    "    epochs=epochs,\n",
    "    callbacks = [earlystopper]\n",
    ")"
   ]
  },
  {
   "cell_type": "code",
   "execution_count": null,
   "metadata": {
    "tags": []
   },
   "outputs": [
    {
     "data": {
      "image/png": "[encoded data removed]",
      "text/plain": [
       "<Figure size 640x480 with 1 Axes>"
      ]
     },
     "metadata": {},
     "output_type": "display_data"
    },
    {
     "name": "stdout",
     "output_type": "stream",
     "text": [
      "\n"
     ]
    },
    {
     "data": {
      "image/png": "[encoded data removed]",
      "text/plain": [
       "<Figure size 640x480 with 1 Axes>"
      ]
     },
     "metadata": {},
     "output_type": "display_data"
    }
   ],
   "source": [
    "acc=history.history['accuracy']\n",
    "val_acc=history.history['val_accuracy']\n",
    "loss=history.history['loss']\n",
    "val_loss=history.history['val_loss']\n",
    "\n",
    "epochs=range(len(acc))\n",
    "\n",
    "plt.subplot(1,2,1)\n",
    "plt.plot(epochs, acc, 'r', \"Training Accuracy\")\n",
    "plt.plot(epochs, val_acc, 'b', \"Validation Accuracy\")\n",
    "plt.title('Training and validation accuracy')\n",
    "plt.show()\n",
    "print(\"\")\n",
    "\n",
    "plt.plot(epochs, loss, 'r', \"Training Loss\")\n",
    "plt.plot(epochs, val_loss, 'b', \"Validation Loss\")\n",
    "plt.show()"
   ]
  },
  {
   "cell_type": "code",
   "execution_count": 25,
   "metadata": {
    "tags": []
   },
   "outputs": [
    {
     "name": "stdout",
     "output_type": "stream",
     "text": [
      "125/125 [==============================] - 27s 214ms/step\n"
     ]
    }
   ],
   "source": [
    "test_predict = model.predict(test_generator)"
   ]
  },
  {
   "cell_type": "code",
   "execution_count": 26,
   "metadata": {
    "tags": []
   },
   "outputs": [
    {
     "name": "stdout",
     "output_type": "stream",
     "text": [
      "        0\n",
      "0     1.0\n",
      "1     0.0\n",
      "2     0.0\n",
      "3     1.0\n",
      "4     1.0\n",
      "...   ...\n",
      "3995  1.0\n",
      "3996  0.0\n",
      "3997  0.0\n",
      "3998  1.0\n",
      "3999  1.0\n",
      "\n",
      "[4000 rows x 1 columns]\n",
      "4000\n"
     ]
    }
   ],
   "source": [
    "show_test_predict = np.round(test_predict, 0)\n",
    "show_test_predict = pd.DataFrame(show_test_predict)\n",
    "print(show_test_predict)\n",
    "print(len(show_test_predict))"
   ]
  },
  {
   "cell_type": "code",
   "execution_count": 27,
   "metadata": {},
   "outputs": [
    {
     "data": {
      "image/png": "[encoded data removed]",
      "text/plain": [
       "<Figure size 640x480 with 1 Axes>"
      ]
     },
     "metadata": {},
     "output_type": "display_data"
    }
   ],
   "source": [
    "from sklearn.metrics import roc_curve, auc\n",
    "fpr, tpr, thresholds = roc_curve(test_generator.classes, test_predict)\n",
    "roc_auc = auc(fpr, tpr)\n",
    "\n",
    "plt.figure()\n",
    "plt.plot(fpr, tpr, color='darkorange', lw=2, label='ROC curve (area = %0.2f)'% roc_auc)\n",
    "plt.plot([0,1],[0,1], color='navy', lw=2, linestyle='--')\n",
    "plt.xlim([0.0,1.0])\n",
    "plt.ylim([0.0,1.05])\n",
    "plt.xlabel(\"False Positive Rate\")\n",
    "plt.ylabel(\"True Positive Rate\")\n",
    "plt.title(\"ROC Curve\")\n",
    "plt.legend(loc=\"lower right\")\n",
    "plt.show()\n"
   ]
  },
  {
   "cell_type": "code",
   "execution_count": 28,
   "metadata": {},
   "outputs": [
    {
     "data": {
      "text/plain": [
       "0.49699949699949697"
      ]
     },
     "execution_count": 28,
     "metadata": {},
     "output_type": "execute_result"
    }
   ],
   "source": [
    "from sklearn.metrics import f1_score\n",
    "f1_score(test_generator.classes, show_test_predict, average='macro')"
   ]
  },
  {
   "cell_type": "code",
   "execution_count": 29,
   "metadata": {},
   "outputs": [
    {
     "data": {
      "text/plain": [
       "array([[ 992, 1008],\n",
       "       [1004,  996]], dtype=int64)"
      ]
     },
     "execution_count": 29,
     "metadata": {},
     "output_type": "execute_result"
    }
   ],
   "source": [
    "from sklearn.metrics import confusion_matrix\n",
    "confusion_matrix(test_generator.classes, show_test_predict)"
   ]
  },
  {
   "cell_type": "code",
   "execution_count": 30,
   "metadata": {},
   "outputs": [
    {
     "name": "stdout",
     "output_type": "stream",
     "text": [
      "125/125 [==============================] - 10s 82ms/step - loss: 0.3089 - accuracy: 0.8630\n"
     ]
    },
    {
     "data": {
      "text/plain": [
       "[0.3088504672050476, 0.8629999756813049]"
      ]
     },
     "execution_count": 30,
     "metadata": {},
     "output_type": "execute_result"
    }
   ],
   "source": [
    "model.evaluate(test_generator)"
   ]
  },
  {
   "cell_type": "code",
   "execution_count": 31,
   "metadata": {},
   "outputs": [],
   "source": [
    "# os.chdir(\"D:\\\\Study\\\\Code\\\\Python\\\\2023Sound_Classification_Bee_Qeen_Queenless\\\\Models\")\n",
    "model.save(\"CNN.h5\")"
   ]
  },
  {
   "cell_type": "code",
   "execution_count": 32,
   "metadata": {
    "tags": []
   },
   "outputs": [],
   "source": [
    "# STFT, Chroma\n",
    "# C1:using wavelet --> Feature selection\n",
    "# C2: MFCC --> spectral --> vector(using average) --> feature selection --> ML(KNN, SVM, Logistic)\n",
    "# C3: HHT --> spectral --> average --> HHT \n",
    "# ==> Apply DL, ML\n",
    "## => Comparison(time, accuracy,...)"
   ]
  },
  {
   "cell_type": "code",
   "execution_count": 33,
   "metadata": {
    "tags": []
   },
   "outputs": [],
   "source": [
    "# Chossing dataset \n",
    "# Date\n",
    "# Time [~m --> ~m]"
   ]
  }
 ],
 "metadata": {
  "kernelspec": {
   "display_name": "Python 3 (ipykernel)",
   "language": "python",
   "name": "python3"
  },
  "language_info": {
   "codemirror_mode": {
    "name": "ipython",
    "version": 3
   },
   "file_extension": ".py",
   "mimetype": "text/x-python",
   "name": "python",
   "nbconvert_exporter": "python",
   "pygments_lexer": "ipython3",
   "version": "3.9.16"
  }
 },
 "nbformat": 4,
 "nbformat_minor": 4
}
